{
 "cells": [
  {
   "cell_type": "code",
   "execution_count": 1,
   "metadata": {
    "collapsed": true
   },
   "outputs": [],
   "source": [
    "import spacy\n",
    "import pandas as pd\n",
    "import nltk\n",
    "from xml.dom import minidom\n",
    "from nltk.corpus import stopwords "
   ]
  },
  {
   "cell_type": "code",
   "execution_count": 2,
   "metadata": {
    "collapsed": true
   },
   "outputs": [],
   "source": [
    "nlp = spacy.load('en')"
   ]
  },
  {
   "cell_type": "code",
   "execution_count": 3,
   "metadata": {
    "collapsed": true
   },
   "outputs": [],
   "source": [
    "utterance = []\n",
    "\n",
    "with open(\"chat_svm_train.csv\",\"r\") as inp:\n",
    "    for line in inp.readlines():\n",
    "        line = line.strip()\n",
    "        line = line.replace(\"\\\"\",\"\")\n",
    "        line = line.split(\",\")\n",
    "        #mtn = line[0]\n",
    "        if len(line[2].split(\" \")) > 3 and (\"AGENT_MESSAGE\" in line[1] or \"CLIENT_MESSAGE\" in line[1]):\n",
    "            utterance.append(line[2].strip())\n",
    "        #category = line[0]"
   ]
  },
  {
   "cell_type": "code",
   "execution_count": 4,
   "metadata": {
    "collapsed": true
   },
   "outputs": [],
   "source": [
    "stop_words = set(stopwords.words('english')) "
   ]
  },
  {
   "cell_type": "code",
   "execution_count": 25,
   "metadata": {},
   "outputs": [],
   "source": [
    "for i in range(0, len(utterance)):\n",
    "    doc = nlp(str(utterance[i]))\n",
    "    word_list = []\n",
    "\n",
    "    for token in doc:\n",
    "        if token.dep_ == 'nsubj' or token.dep_ == 'nsubjpass' or 'obj' in token.dep_ or 'adv' in token.dep_:\n",
    "            if \"VB\" in token.tag_ or \"JJ\" in token.tag_ or \"NN\" in token.tag_:\n",
    "                word_list.append(token.text)\n",
    "            if \"VB\" in token.head.tag_ or \"JJ\" in token.head.tag_ or \"NN\" in token.head.tag_:\n",
    "                #print(\"{0}/{1} <--{2}-- {3}/{4}\".format(token.texttoken.text, token.tag_, token.dep_, token.head.text, token.head.tag_))\n",
    "                word_list.append(token.head.text)\n",
    "    word_list = list(set(word_list))\n",
    "    \n",
    "    aspect_list = []\n",
    "    filtered_sentence = [] \n",
    "    #print(word_list)\n",
    "    for w in word_list:\n",
    "        #filtered_sentence = [] \n",
    "        #for wn in w:\n",
    "        if w not in stop_words: \n",
    "            filtered_sentence.append(w) \n",
    "    if len(filtered_sentence) > 2:\n",
    "        aspect_list.append(' '.join(filtered_sentence))\n",
    "    \n",
    "    \n",
    "    #print(len(aspect_list))\n",
    "        \n",
    "    with open(\"Spacy_AspExt_trail1.csv\",\"a+\") as out:\n",
    "        if len(aspect_list) == 1:\n",
    "            for i in aspect_list:\n",
    "                out.write(i)\n",
    "            out.write(\"\\n\")"
   ]
  },
  {
   "cell_type": "code",
   "execution_count": null,
   "metadata": {
    "collapsed": true
   },
   "outputs": [],
   "source": []
  }
 ],
 "metadata": {
  "kernelspec": {
   "display_name": "Python 3",
   "language": "python",
   "name": "python3"
  },
  "language_info": {
   "codemirror_mode": {
    "name": "ipython",
    "version": 3
   },
   "file_extension": ".py",
   "mimetype": "text/x-python",
   "name": "python",
   "nbconvert_exporter": "python",
   "pygments_lexer": "ipython3",
   "version": "3.6.1"
  }
 },
 "nbformat": 4,
 "nbformat_minor": 2
}
