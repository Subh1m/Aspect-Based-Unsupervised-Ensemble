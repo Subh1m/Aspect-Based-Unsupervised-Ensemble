{
 "cells": [
  {
   "cell_type": "code",
   "execution_count": 4,
   "metadata": {},
   "outputs": [
    {
     "ename": "ModuleNotFoundError",
     "evalue": "No module named 'utils'",
     "output_type": "error",
     "traceback": [
      "\u001b[0;31m---------------------------------------------------------------------------\u001b[0m",
      "\u001b[0;31mModuleNotFoundError\u001b[0m                       Traceback (most recent call last)",
      "\u001b[0;32m<ipython-input-4-cd8c2fcdbf3a>\u001b[0m in \u001b[0;36m<module>\u001b[0;34m()\u001b[0m\n\u001b[1;32m     14\u001b[0m \u001b[0;32mimport\u001b[0m \u001b[0mnumpy\u001b[0m \u001b[0;32mas\u001b[0m \u001b[0mnp\u001b[0m\u001b[0;34m\u001b[0m\u001b[0m\n\u001b[1;32m     15\u001b[0m \u001b[0;32mimport\u001b[0m \u001b[0mos\u001b[0m\u001b[0;34m,\u001b[0m \u001b[0msys\u001b[0m\u001b[0;34m,\u001b[0m \u001b[0mcodecs\u001b[0m\u001b[0;34m,\u001b[0m \u001b[0margparse\u001b[0m\u001b[0;34m,\u001b[0m \u001b[0mpprint\u001b[0m\u001b[0;34m,\u001b[0m \u001b[0mtime\u001b[0m\u001b[0;34m\u001b[0m\u001b[0m\n\u001b[0;32m---> 16\u001b[0;31m \u001b[0;32mfrom\u001b[0m \u001b[0mutils\u001b[0m \u001b[0;32mimport\u001b[0m \u001b[0;34m*\u001b[0m\u001b[0;34m\u001b[0m\u001b[0m\n\u001b[0m\u001b[1;32m     17\u001b[0m \u001b[0;32mfrom\u001b[0m \u001b[0mword_arithmetic\u001b[0m \u001b[0;32mimport\u001b[0m \u001b[0;34m*\u001b[0m\u001b[0;34m\u001b[0m\u001b[0m\n",
      "\u001b[0;31mModuleNotFoundError\u001b[0m: No module named 'utils'"
     ]
    }
   ],
   "source": [
    "# Notes for extension of script:\n",
    "# \t- User readline() to interactively search for word groups\n",
    "# \t- On a word miss, use L2 or cosine distance to select the nearest word vector\n",
    "# \t\t- This would require all 6B tokens to loaded in ram (but not clustered)\n",
    "#\t\t- Or use levenshtein distance assuming the word is spelled the same.\n",
    "#   - Provide an interface to perform basic arithmetic on words (king - man + woman = queen)\n",
    "# Look at this result from 2014 English Wikipedia:\n",
    "# 'islamic', 'militant', 'islam', 'radical', 'extremists', 'islamist', 'extremist', 'outlawed'\n",
    "# 'war' - 'violence' + 'peace' = 'treaty' | 300d\n",
    "\n",
    "from sklearn.cluster import KMeans\n",
    "from numbers import Number\n",
    "from pandas import DataFrame\n",
    "import numpy as np\n",
    "import os, sys, codecs, argparse, pprint, time\n",
    "from utils import *\n",
    "from word_arithmetic import *"
   ]
  },
  {
   "cell_type": "code",
   "execution_count": null,
   "metadata": {
    "collapsed": true
   },
   "outputs": [],
   "source": [
    "\n",
    "def find_word_clusters(labels_array, cluster_labels):\n",
    "\tcluster_to_words = autovivify_list()\n",
    "\tfor c, i in enumerate(cluster_labels):\n",
    "\t\tcluster_to_words[i].append(labels_array[c])\n",
    "\treturn cluster_to_words\n",
    "\n",
    "def parse_args():\n",
    "\tparser = argparse.ArgumentParser()\n",
    "\tparser.add_argument('--vector_dim', '-d',\n",
    "\t\t\t\t\t\ttype=int,\n",
    "\t\t\t\t\t\tchoices=[50, 100, 200, 300],\n",
    "\t\t\t\t\t\tdefault=100,\n",
    "\t\t\t\t\t\thelp='What vector GloVe vector dimension to use '\n",
    "\t\t\t\t\t\t\t '(default: 100).')\n",
    "\tparser.add_argument('--num_words', '-n',\n",
    "\t\t\t\t\t\ttype=int,\n",
    "\t\t\t\t\t\tdefault=10000,\n",
    "\t\t\t\t\t\thelp='The number of lines to read from the GloVe '\n",
    "\t\t\t\t\t\t\t 'vector file (default: 10000).')\n",
    "\tparser.add_argument('--num_clusters', '-k',\n",
    "\t\t\t\t\t\tdefault=1000,\n",
    "\t\t\t\t\t\ttype=int,\n",
    "\t\t\t\t\t\thelp='Number of resulting word clusters. '\n",
    "\t\t\t\t\t\t'The number of K in K-Means (default: 1000).')\n",
    "\tparser.add_argument('--n_jobs', '-j',\n",
    "\t\t\t\t\t\ttype=int,\n",
    "\t\t\t\t\t\tdefault=-1,\n",
    "\t\t\t\t\t\thelp='Number of cores to use when fitting K-Means. '\n",
    "\t\t\t\t\t\t     '-1 = all cores. '\n",
    "\t\t\t\t\t\t\t 'More cores = less time, more memory (default: -1).')\n",
    "\tparser.add_argument('--glove_path', '-i',\n",
    "\t\t                default='data/glove',\n",
    "\t\t                help='GloVe vector file path (default: data/glove)')\n",
    "\treturn parser.parse_args()\n",
    "\n",
    "if __name__ == '__main__':\n",
    "\n",
    "\targs = parse_args()\n",
    "\n",
    "\tfilename = path = 'data/cache/{}'.format(get_cache_filename_from_args(args))\n",
    "\tcluster_to_words = None\n",
    "\tstart_time = time.time()\n",
    "\n",
    "\tvector_file = args.glove_path + '/' + 'glove.6B.' + str(args.vector_dim) + 'd.txt'\n",
    "\tdf, labels_array = build_word_vector_matrix(vector_file, args.num_words)\n",
    "\n",
    "\t# if these are clustering parameters we've never seen before\n",
    "\tif not os.path.isfile(filename):\n",
    "\n",
    "\t\tprint('No cached cluster found. Clustering using K-Means... ')\n",
    "\t\tkmeans_model = KMeans(init='k-means++', n_clusters=args.num_clusters, n_jobs=args.n_jobs, n_init=10)\n",
    "\t\tkmeans_model.fit(df)\n",
    "\n",
    "\t\tcluster_labels   = kmeans_model.labels_\n",
    "\t\t# cluster_inertia = kmeans_model.inertia_\n",
    "\t\tcluster_to_words = list(find_word_clusters(labels_array, cluster_labels).values())\n",
    "\n",
    "\t\t# cache these clustering results\n",
    "\t\tsave_json(path, cluster_to_words)\n",
    "\t\tprint('Saved {} clusters to {}. Cached for later use.'.format(len(cluster_to_words), path))\n",
    "\n",
    "\t# if this kmeans fitting has already been cached\n",
    "\telse:\n",
    "\t\tprint('Cached K-Means cluster found, loading from disk.')\n",
    "\t\tcluster_to_words = load_json(filename)\n",
    "\n",
    "\tfor i, words in enumerate(cluster_to_words):\n",
    "\t\tprint('CLUSTER {}: {}'.format(i + 1, ', '.join(words)))\n",
    "\n",
    "\tif start_time != None:\n",
    "\t\t\tprint(\"--- {:.2f} seconds ---\".format((time.time() - start_time)))"
   ]
  }
 ],
 "metadata": {
  "kernelspec": {
   "display_name": "Python 3",
   "language": "python",
   "name": "python3"
  },
  "language_info": {
   "codemirror_mode": {
    "name": "ipython",
    "version": 3
   },
   "file_extension": ".py",
   "mimetype": "text/x-python",
   "name": "python",
   "nbconvert_exporter": "python",
   "pygments_lexer": "ipython3",
   "version": "3.6.1"
  }
 },
 "nbformat": 4,
 "nbformat_minor": 2
}
