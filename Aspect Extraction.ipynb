{
 "cells": [
  {
   "cell_type": "code",
   "execution_count": 20,
   "metadata": {
    "collapsed": true
   },
   "outputs": [],
   "source": [
    "import spacy\n",
    "import pandas as pd\n",
    "import time"
   ]
  },
  {
   "cell_type": "code",
   "execution_count": 21,
   "metadata": {
    "collapsed": true
   },
   "outputs": [],
   "source": [
    "nlp = spacy.load('en')"
   ]
  },
  {
   "cell_type": "code",
   "execution_count": 22,
   "metadata": {},
   "outputs": [
    {
     "data": {
      "text/html": [
       "<div>\n",
       "<style scoped>\n",
       "    .dataframe tbody tr th:only-of-type {\n",
       "        vertical-align: middle;\n",
       "    }\n",
       "\n",
       "    .dataframe tbody tr th {\n",
       "        vertical-align: top;\n",
       "    }\n",
       "\n",
       "    .dataframe thead th {\n",
       "        text-align: right;\n",
       "    }\n",
       "</style>\n",
       "<table border=\"1\" class=\"dataframe\">\n",
       "  <thead>\n",
       "    <tr style=\"text-align: right;\">\n",
       "      <th></th>\n",
       "      <th>MTN</th>\n",
       "      <th>Chat</th>\n",
       "      <th>Category</th>\n",
       "    </tr>\n",
       "  </thead>\n",
       "  <tbody>\n",
       "    <tr>\n",
       "      <th>0</th>\n",
       "      <td>a3489402968087468241</td>\n",
       "      <td>as i check here it seems that the number is lo...</td>\n",
       "      <td>OTHERS</td>\n",
       "    </tr>\n",
       "    <tr>\n",
       "      <th>1</th>\n",
       "      <td>a12783689416664030031</td>\n",
       "      <td>i do understand your situation and i really wa...</td>\n",
       "      <td>OTHERS</td>\n",
       "    </tr>\n",
       "    <tr>\n",
       "      <th>2</th>\n",
       "      <td>a13216602330751687504</td>\n",
       "      <td>i want higher speed i do not need internationa...</td>\n",
       "      <td>OTHERS</td>\n",
       "    </tr>\n",
       "    <tr>\n",
       "      <th>3</th>\n",
       "      <td>a13001555240794593363</td>\n",
       "      <td>but instead the 86 it should be 49 then the in...</td>\n",
       "      <td>OTHERS</td>\n",
       "    </tr>\n",
       "    <tr>\n",
       "      <th>4</th>\n",
       "      <td>a13001555240794593363</td>\n",
       "      <td>germany enter 011 then 49 then international m...</td>\n",
       "      <td>OTHERS</td>\n",
       "    </tr>\n",
       "  </tbody>\n",
       "</table>\n",
       "</div>"
      ],
      "text/plain": [
       "                     MTN                                               Chat  \\\n",
       "0   a3489402968087468241  as i check here it seems that the number is lo...   \n",
       "1  a12783689416664030031  i do understand your situation and i really wa...   \n",
       "2  a13216602330751687504  i want higher speed i do not need internationa...   \n",
       "3  a13001555240794593363  but instead the 86 it should be 49 then the in...   \n",
       "4  a13001555240794593363  germany enter 011 then 49 then international m...   \n",
       "\n",
       "  Category  \n",
       "0   OTHERS  \n",
       "1   OTHERS  \n",
       "2   OTHERS  \n",
       "3   OTHERS  \n",
       "4   OTHERS  "
      ]
     },
     "execution_count": 22,
     "metadata": {},
     "output_type": "execute_result"
    }
   ],
   "source": [
    "df = pd.read_csv(\"../Chat/test.csv\", sep = \",\", names=['MTN','Chat','Category'])\n",
    "df.head()"
   ]
  },
  {
   "cell_type": "code",
   "execution_count": 25,
   "metadata": {
    "scrolled": false
   },
   "outputs": [
    {
     "name": "stdout",
     "output_type": "stream",
     "text": [
      "as i check here it seems that the number is local us number it does not show that you have any recent international call\n",
      "nsubj: i check\n",
      "nsubj: it seems\n",
      "nsubj: number is\n",
      "dobj: us local\n",
      "nsubj: it show\n",
      "nsubj: you have\n",
      "dobj: call have\n",
      "i do understand your situation and i really want to provide you the best plan we have for the international services\n",
      "nsubj: i understand\n",
      "dobj: situation understand\n",
      "nsubj: i want\n",
      "dobj: plan provide\n",
      "nsubj: we have\n",
      "i want higher speed i do not need international at this time\n",
      "nsubj: i want\n",
      "dobj: speed want\n",
      "nsubj: i need\n",
      "but instead the 86 it should be 49 then the international number\n",
      "nsubj: it be\n",
      "germany enter 011 then 49 then international mobile number\n",
      "nsubj: germany enter\n"
     ]
    },
    {
     "data": {
      "text/plain": [
       "0.0684506893157959"
      ]
     },
     "execution_count": 25,
     "metadata": {},
     "output_type": "execute_result"
    }
   ],
   "source": [
    "start = time.time()\n",
    "for i in range(0, 5):\n",
    "    doc = nlp(df['Chat'].iloc[i])\n",
    "    print(doc)\n",
    "    for token in doc:\n",
    "        if \"nsubj\" in token.dep_:\n",
    "            print(\"nsubj:\",token.text, token.head.text)\n",
    "        if \"dobj\" in token.dep_:\n",
    "            print(\"dobj:\",token.text, token.head.text)\n",
    "        if \"compound\" in token.dep_:\n",
    "            print(\"compound:\",token.text, token.head.text)\n",
    "time.time()-start\n",
    "        \n",
    "    #print(\"{0}/{1} <--{2}-- {3}/{4}\".format(\n",
    "    #token.text, token.tag_, token.dep_, token.head.text, token.head.tag_))"
   ]
  },
  {
   "cell_type": "code",
   "execution_count": 29,
   "metadata": {},
   "outputs": [
    {
     "name": "stdout",
     "output_type": "stream",
     "text": [
      "but/CC <--cc-- be/VB\n",
      "instead/RB <--advmod-- be/VB\n",
      "the/DT <--det-- it/PRP\n",
      "it/PRP <--nsubj-- be/VB\n",
      "should/MD <--aux-- be/VB\n",
      "be/VB <--ROOT-- be/VB\n",
      "then/RB <--advmod-- be/VB\n",
      "the/DT <--det-- number/NN\n",
      "international/JJ <--amod-- number/NN\n",
      "number/NN <--attr-- be/VB\n"
     ]
    }
   ],
   "source": [
    "doc = nlp('but instead the it should be then the international number')\n",
    "for token in doc:\n",
    "    print(\"{0}/{1} <--{2}-- {3}/{4}\".format(\n",
    "    token.text, token.tag_, token.dep_, token.head.text, token.head.tag_))"
   ]
  }
 ],
 "metadata": {
  "kernelspec": {
   "display_name": "Python 3",
   "language": "python",
   "name": "python3"
  },
  "language_info": {
   "codemirror_mode": {
    "name": "ipython",
    "version": 3
   },
   "file_extension": ".py",
   "mimetype": "text/x-python",
   "name": "python",
   "nbconvert_exporter": "python",
   "pygments_lexer": "ipython3",
   "version": "3.6.1"
  }
 },
 "nbformat": 4,
 "nbformat_minor": 2
}
