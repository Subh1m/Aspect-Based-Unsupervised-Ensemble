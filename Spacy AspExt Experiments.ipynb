{
 "cells": [
  {
   "cell_type": "code",
   "execution_count": 1,
   "metadata": {
    "collapsed": true
   },
   "outputs": [],
   "source": [
    "import spacy"
   ]
  },
  {
   "cell_type": "code",
   "execution_count": 2,
   "metadata": {
    "collapsed": true
   },
   "outputs": [],
   "source": [
    "nlp = spacy.load('en')"
   ]
  },
  {
   "cell_type": "code",
   "execution_count": 3,
   "metadata": {
    "collapsed": true
   },
   "outputs": [],
   "source": [
    "doc = nlp('You can reach a Customer Care Specialist at 1-800-392-0717 to talk to someone about your billing questions.')\n",
    "#doc = nlp('Please disconnect my service as my bill is too high')"
   ]
  },
  {
   "cell_type": "code",
   "execution_count": 4,
   "metadata": {},
   "outputs": [
    {
     "name": "stdout",
     "output_type": "stream",
     "text": [
      "You/PRP <--nsubj-- reach/VB\n",
      "can/MD <--aux-- reach/VB\n",
      "reach/VB <--ROOT-- reach/VB\n",
      "a/DT <--det-- Specialist/NNP\n",
      "Customer/NNP <--compound-- Care/NNP\n",
      "Care/NNP <--compound-- Specialist/NNP\n",
      "Specialist/NNP <--dobj-- reach/VB\n",
      "at/IN <--prep-- reach/VB\n",
      "1/CD <--nummod-- 0717/CD\n",
      "-/HYPH <--punct-- 800/CD\n",
      "800/CD <--nummod-- 0717/CD\n",
      "-/HYPH <--punct-- 392/CD\n",
      "392/CD <--nummod-- 0717/CD\n",
      "-/HYPH <--punct-- 0717/CD\n",
      "0717/CD <--pobj-- at/IN\n",
      "to/TO <--aux-- talk/VB\n",
      "talk/VB <--advcl-- reach/VB\n",
      "to/IN <--prep-- talk/VB\n",
      "someone/NN <--pobj-- to/IN\n",
      "about/IN <--prep-- someone/NN\n",
      "your/PRP$ <--poss-- questions/NNS\n",
      "billing/NN <--compound-- questions/NNS\n",
      "questions/NNS <--pobj-- about/IN\n",
      "./. <--punct-- reach/VB\n"
     ]
    }
   ],
   "source": [
    "for token in doc:\n",
    "    print(\"{0}/{1} <--{2}-- {3}/{4}\".format(token.text, token.tag_, token.dep_, token.head.text, token.head.tag_))"
   ]
  },
  {
   "cell_type": "code",
   "execution_count": 5,
   "metadata": {
    "collapsed": true
   },
   "outputs": [],
   "source": [
    "word_list = []\n",
    "\n",
    "for token in doc:\n",
    "    if token.dep_ == 'nsubj' or token.dep_ == 'nsubjpass' or 'obj' in token.dep_ or 'adv' in token.dep_:\n",
    "        if \"VB\" in token.tag_ or \"JJ\" in token.tag_ or \"NN\" in token.tag_:\n",
    "            word_list.append(token.text)\n",
    "        if \"VB\" in token.head.tag_ or \"JJ\" in token.head.tag_ or \"NN\" in token.head.tag_:\n",
    "            #print(\"{0}/{1} <--{2}-- {3}/{4}\".format(token.texttoken.text, token.tag_, token.dep_, token.head.text, token.head.tag_))\n",
    "            word_list.append(token.head.text)"
   ]
  },
  {
   "cell_type": "code",
   "execution_count": 6,
   "metadata": {},
   "outputs": [
    {
     "data": {
      "text/plain": [
       "['talk', 'someone', 'Specialist', 'reach', 'questions']"
      ]
     },
     "execution_count": 6,
     "metadata": {},
     "output_type": "execute_result"
    }
   ],
   "source": [
    "list(set(word_list))"
   ]
  },
  {
   "cell_type": "code",
   "execution_count": 7,
   "metadata": {},
   "outputs": [
    {
     "data": {
      "text/plain": [
       "['reach', 'Specialist', 'reach', 'talk', 'reach', 'someone', 'questions']"
      ]
     },
     "execution_count": 7,
     "metadata": {},
     "output_type": "execute_result"
    }
   ],
   "source": [
    "word_list"
   ]
  }
 ],
 "metadata": {
  "kernelspec": {
   "display_name": "Python 3",
   "language": "python",
   "name": "python3"
  },
  "language_info": {
   "codemirror_mode": {
    "name": "ipython",
    "version": 3
   },
   "file_extension": ".py",
   "mimetype": "text/x-python",
   "name": "python",
   "nbconvert_exporter": "python",
   "pygments_lexer": "ipython3",
   "version": "3.6.1"
  }
 },
 "nbformat": 4,
 "nbformat_minor": 2
}
