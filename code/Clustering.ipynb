{
 "cells": [
  {
   "cell_type": "code",
   "execution_count": 1,
   "metadata": {
    "collapsed": true
   },
   "outputs": [],
   "source": [
    "import pandas as pd\n",
    "import numpy as np\n",
    "import matplotlib.pyplot as plt\n",
    "import seaborn as sns\n",
    "%matplotlib inline"
   ]
  },
  {
   "cell_type": "code",
   "execution_count": 2,
   "metadata": {
    "collapsed": true
   },
   "outputs": [],
   "source": [
    "comments = pd.read_csv('Comments.csv')"
   ]
  },
  {
   "cell_type": "code",
   "execution_count": 3,
   "metadata": {},
   "outputs": [
    {
     "data": {
      "text/plain": [
       "'C:\\\\Users\\\\v536256\\\\Python'"
      ]
     },
     "execution_count": 3,
     "metadata": {},
     "output_type": "execute_result"
    }
   ],
   "source": [
    "pwd"
   ]
  },
  {
   "cell_type": "code",
   "execution_count": 4,
   "metadata": {},
   "outputs": [
    {
     "data": {
      "text/html": [
       "<div>\n",
       "<style>\n",
       "    .dataframe thead tr:only-child th {\n",
       "        text-align: right;\n",
       "    }\n",
       "\n",
       "    .dataframe thead th {\n",
       "        text-align: left;\n",
       "    }\n",
       "\n",
       "    .dataframe tbody tr th {\n",
       "        vertical-align: top;\n",
       "    }\n",
       "</style>\n",
       "<table border=\"1\" class=\"dataframe\">\n",
       "  <thead>\n",
       "    <tr style=\"text-align: right;\">\n",
       "      <th></th>\n",
       "      <th>COMMENTS</th>\n",
       "    </tr>\n",
       "  </thead>\n",
       "  <tbody>\n",
       "    <tr>\n",
       "      <th>0</th>\n",
       "      <td>THIS ORDER IS TO ENABLE THE DCAR ONLY. THIS IS...</td>\n",
       "    </tr>\n",
       "    <tr>\n",
       "      <th>1</th>\n",
       "      <td>This is just a change order for an Existing Ma...</td>\n",
       "    </tr>\n",
       "  </tbody>\n",
       "</table>\n",
       "</div>"
      ],
      "text/plain": [
       "                                            COMMENTS\n",
       "0  THIS ORDER IS TO ENABLE THE DCAR ONLY. THIS IS...\n",
       "1  This is just a change order for an Existing Ma..."
      ]
     },
     "execution_count": 4,
     "metadata": {},
     "output_type": "execute_result"
    }
   ],
   "source": [
    "comments.head(2)"
   ]
  },
  {
   "cell_type": "code",
   "execution_count": 5,
   "metadata": {},
   "outputs": [
    {
     "data": {
      "text/plain": [
       "['this',\n",
       " 'order',\n",
       " 'is',\n",
       " 'to',\n",
       " 'enable',\n",
       " 'the',\n",
       " 'dcar',\n",
       " 'only.',\n",
       " 'this',\n",
       " 'is',\n",
       " 'vzb',\n",
       " 'expedited,',\n",
       " 'please',\n",
       " 'complete',\n",
       " 'asap.']"
      ]
     },
     "execution_count": 5,
     "metadata": {},
     "output_type": "execute_result"
    }
   ],
   "source": [
    "comments['COMMENTS'][0].lower().split()"
   ]
  },
  {
   "cell_type": "code",
   "execution_count": 6,
   "metadata": {
    "collapsed": true
   },
   "outputs": [],
   "source": [
    "import nltk"
   ]
  },
  {
   "cell_type": "code",
   "execution_count": 7,
   "metadata": {
    "collapsed": true
   },
   "outputs": [],
   "source": [
    "#nltk.download_shell()"
   ]
  },
  {
   "cell_type": "code",
   "execution_count": 8,
   "metadata": {
    "collapsed": true
   },
   "outputs": [],
   "source": [
    "from nltk.corpus import stopwords\n",
    "from nltk.stem import PorterStemmer\n",
    "import string\n",
    "import re"
   ]
  },
  {
   "cell_type": "code",
   "execution_count": 9,
   "metadata": {
    "collapsed": true
   },
   "outputs": [],
   "source": [
    "#stopwords.words('english')"
   ]
  },
  {
   "cell_type": "code",
   "execution_count": 10,
   "metadata": {},
   "outputs": [
    {
     "data": {
      "text/plain": [
       "'!\"#$%&\\'()*+,-./:;<=>?@[\\\\]^_`{|}~'"
      ]
     },
     "execution_count": 10,
     "metadata": {},
     "output_type": "execute_result"
    }
   ],
   "source": [
    "string.punctuation"
   ]
  },
  {
   "cell_type": "code",
   "execution_count": 11,
   "metadata": {},
   "outputs": [
    {
     "name": "stdout",
     "output_type": "stream",
     "text": [
      "This is just a change order for an Existing Managed Circuit BCBK994S0001\n",
      "Changes to apply Add ETM Select and ensure PE Stats is enabled Should you have questions please reach out to OM Bernice Pangan  Bernicepanganverizoncom OM Supervisor Melissa Villabruza  Melissavillabruzaverizoncom \n"
     ]
    }
   ],
   "source": [
    "c1 = comments['COMMENTS'][1]\n",
    "no_punc = [ch for ch in c1 if ch not in string.punctuation]\n",
    "print(''.join(no_punc))"
   ]
  },
  {
   "cell_type": "code",
   "execution_count": 37,
   "metadata": {
    "collapsed": true
   },
   "outputs": [],
   "source": [
    "def CleanUp(sentence):\n",
    "    #no_punc = [ch for ch in sentence if ch not in string.punctuation]\n",
    "    #no_punc = [ch if ch not in string.punctuation else ' ' for ch in sentence]\n",
    "    no_punc = [ch if (ch not in string.punctuation and ch.isdigit()==False) else ' ' for ch in sentence]\n",
    "    no_punc = re.sub(' +',' ',''.join(no_punc).lower().strip())\n",
    "    no_stop = [word for word in no_punc.split() if (word not in stopwords.words('english') and word.isdigit()==False)]\n",
    "    ps = PorterStemmer()\n",
    "    stem_word = [ps.stem(word) for word in no_stop]\n",
    "    return(' '.join(stem_word))\n"
   ]
  },
  {
   "cell_type": "code",
   "execution_count": 235,
   "metadata": {},
   "outputs": [
    {
     "data": {
      "text/plain": [
       "['fe', 'dfa21', 'fa', 'fea', 'sa!']"
      ]
     },
     "execution_count": 235,
     "metadata": {},
     "output_type": "execute_result"
    }
   ],
   "source": [
    "[word for word in 'fe 11 dfa21 as 343 fa  fea sa!'.split() if (word not in stopwords.words('english') and word.isdigit()==False)]\n"
   ]
  },
  {
   "cell_type": "code",
   "execution_count": 13,
   "metadata": {},
   "outputs": [
    {
     "data": {
      "text/plain": [
       "'ASDL DES D SQS LE ED QA ES'"
      ]
     },
     "execution_count": 13,
     "metadata": {},
     "output_type": "execute_result"
    }
   ],
   "source": [
    "re.sub(' +', ' ' , ''.join([ch if ch not in string.punctuation else ' ' for ch in 'ASDL/DES D SQS LE: ED QA:ES']))"
   ]
  },
  {
   "cell_type": "code",
   "execution_count": 38,
   "metadata": {},
   "outputs": [
    {
     "data": {
      "text/plain": [
       "0            order enabl dcar vzb expedit complet asap\n",
       "1    chang order exist manag circuit bcbk chang app...\n",
       "2    wf upgrad p bcbk rw pip mlppp k gc crdd foc bp...\n",
       "3                                                frame\n",
       "4    wf bpdd upgrad p bcblbc x bcblbc x pip mlppp k...\n",
       "Name: COMMENTS, dtype: object"
      ]
     },
     "execution_count": 38,
     "metadata": {},
     "output_type": "execute_result"
    }
   ],
   "source": [
    "comments_final = comments['COMMENTS'].apply(CleanUp)\n",
    "comments_final.head()"
   ]
  },
  {
   "cell_type": "code",
   "execution_count": 14,
   "metadata": {},
   "outputs": [
    {
     "data": {
      "text/plain": [
       "0            order enabl dcar vzb expedit complet asap\n",
       "1    chang order exist manag circuit bcbk994s0001 c...\n",
       "2    wf upgrad p2139095 bcbk9rw40001 6m pip mlppp 1...\n",
       "3                                                frame\n",
       "4    wf bpdd upgrad p2154453 bcblbc5x0001 bcblbc5x0...\n",
       "Name: COMMENTS, dtype: object"
      ]
     },
     "execution_count": 14,
     "metadata": {},
     "output_type": "execute_result"
    }
   ],
   "source": [
    "comments_final = comments['COMMENTS'].apply(CleanUp)\n",
    "comments_final.head()"
   ]
  },
  {
   "cell_type": "code",
   "execution_count": 39,
   "metadata": {},
   "outputs": [
    {
     "data": {
      "text/plain": [
       "'wf upgrad p bcbk rw pip mlppp k gc crdd foc bpdd set mpl pop dnj pe dnj e dnj e dnj e dnjge dnjge dnjge dnjge ce ip pe ip vpn wellsfargo west vzb dlci qo g qo etm md timer sc rc mc rcvr loc n tower rd aurora co unit state dmarc bldg main flr st rm telco mpoe btn lcon leugim borr guerrero nuria rivera call dispatch work order requir see lcon access cu hcu call stephani hopson site deliveri requir notifi leo nuria number prior arriv onsit'"
      ]
     },
     "execution_count": 39,
     "metadata": {},
     "output_type": "execute_result"
    }
   ],
   "source": [
    "comments_final[2]"
   ]
  },
  {
   "cell_type": "code",
   "execution_count": 16,
   "metadata": {},
   "outputs": [
    {
     "data": {
      "text/plain": [
       "'9397989 WF 17-14147-1, UPGRADE P2139095 (BCBK9RW40001 - 0002) to 6M PIP MLPPP 1808K GC. CRDD & FOC for BPDD. Set MPLS POP to DNJ and PE to DNJ3E03 or DNJ9E01 or DNJ9E02 or DNJGE01 or DNJGE02 or DNJGE03 or DNJGE08. CE IP 165.126.69.90 PE IP 165.126.69.89. VPN WellsFargo-West-VzB-1. AS 64951. DLCI 111. QOS G10. QOS ETM. MD5 Y. TIMER 15/45. SC Y. RC Y. MC Y RCVR. LOC: 3521 N TOWER RD, AURORA, CO 80011-3509 United States. DMARC is BLDG MAIN FLR 1ST RM TELCO MPOE, BTN 303-373-8601. LCON: LEUGIM BORRES GUERRERO 303/373-8610 or NURIA RIVERA 303/373-8600. Please call before dispatch, work order required, see lcon for access. For CUS / HCUS, CALL STEPHANIE HOPSON 704/427-7223.**Site Delivery Requirements:Please notify Leo or Nuria at above number prior to arriving onsite.'"
      ]
     },
     "execution_count": 16,
     "metadata": {},
     "output_type": "execute_result"
    }
   ],
   "source": [
    "comments['COMMENTS'][2]"
   ]
  },
  {
   "cell_type": "code",
   "execution_count": 40,
   "metadata": {
    "collapsed": true
   },
   "outputs": [],
   "source": [
    "from sklearn.feature_extraction.text import CountVectorizer, TfidfTransformer"
   ]
  },
  {
   "cell_type": "code",
   "execution_count": 41,
   "metadata": {
    "collapsed": true
   },
   "outputs": [],
   "source": [
    "cv = CountVectorizer()"
   ]
  },
  {
   "cell_type": "code",
   "execution_count": 42,
   "metadata": {
    "collapsed": true
   },
   "outputs": [],
   "source": [
    "comments_tf = cv.fit_transform(comments_final)"
   ]
  },
  {
   "cell_type": "code",
   "execution_count": 43,
   "metadata": {},
   "outputs": [
    {
     "data": {
      "text/plain": [
       "<571x2213 sparse matrix of type '<class 'numpy.int64'>'\n",
       "\twith 14440 stored elements in Compressed Sparse Row format>"
      ]
     },
     "execution_count": 43,
     "metadata": {},
     "output_type": "execute_result"
    }
   ],
   "source": [
    "comments_tf"
   ]
  },
  {
   "cell_type": "code",
   "execution_count": 44,
   "metadata": {},
   "outputs": [
    {
     "data": {
      "text/plain": [
       "14440"
      ]
     },
     "execution_count": 44,
     "metadata": {},
     "output_type": "execute_result"
    }
   ],
   "source": [
    "comments_tf.nnz"
   ]
  },
  {
   "cell_type": "code",
   "execution_count": 45,
   "metadata": {},
   "outputs": [
    {
     "data": {
      "text/plain": [
       "'order mto'"
      ]
     },
     "execution_count": 45,
     "metadata": {},
     "output_type": "execute_result"
    }
   ],
   "source": [
    "comments_final[100]"
   ]
  },
  {
   "cell_type": "code",
   "execution_count": 46,
   "metadata": {},
   "outputs": [
    {
     "name": "stdout",
     "output_type": "stream",
     "text": [
      "  (0, 1299)\t1\n",
      "  (0, 1435)\t1\n"
     ]
    }
   ],
   "source": [
    "print(comments_tf[100])"
   ]
  },
  {
   "cell_type": "code",
   "execution_count": 47,
   "metadata": {
    "collapsed": true
   },
   "outputs": [],
   "source": [
    "tfidf = TfidfTransformer()"
   ]
  },
  {
   "cell_type": "code",
   "execution_count": 48,
   "metadata": {
    "collapsed": true
   },
   "outputs": [],
   "source": [
    "comments_tfidf = tfidf.fit_transform(comments_tf)"
   ]
  },
  {
   "cell_type": "code",
   "execution_count": 49,
   "metadata": {},
   "outputs": [
    {
     "data": {
      "text/plain": [
       "<571x2213 sparse matrix of type '<class 'numpy.float64'>'\n",
       "\twith 14440 stored elements in Compressed Sparse Row format>"
      ]
     },
     "execution_count": 49,
     "metadata": {},
     "output_type": "execute_result"
    }
   ],
   "source": [
    "comments_tfidf"
   ]
  },
  {
   "cell_type": "code",
   "execution_count": 50,
   "metadata": {},
   "outputs": [
    {
     "name": "stdout",
     "output_type": "stream",
     "text": [
      "  (0, 1435)\t0.414655107146\n",
      "  (0, 1299)\t0.909978649265\n"
     ]
    }
   ],
   "source": [
    "print(comments_tfidf[100])"
   ]
  },
  {
   "cell_type": "code",
   "execution_count": 51,
   "metadata": {},
   "outputs": [
    {
     "data": {
      "text/plain": [
       "{'order': 1435,\n",
       " 'enabl': 661,\n",
       " 'dcar': 516,\n",
       " 'vzb': 2108,\n",
       " 'expedit': 708,\n",
       " 'complet': 440,\n",
       " 'asap': 100,\n",
       " 'chang': 376,\n",
       " 'exist': 705,\n",
       " 'manag': 1158,\n",
       " 'circuit': 397,\n",
       " 'bcbk': 170,\n",
       " 'appli': 86,\n",
       " 'add': 20,\n",
       " 'etm': 693,\n",
       " 'select': 1774,\n",
       " 'ensur': 669,\n",
       " 'pe': 1487,\n",
       " 'stat': 1866,\n",
       " 'question': 1602,\n",
       " 'reach': 1624,\n",
       " 'om': 1418,\n",
       " 'bernic': 228,\n",
       " 'pangan': 1460,\n",
       " 'com': 431,\n",
       " 'supervisor': 1895,\n",
       " 'melissa': 1225,\n",
       " 'villabruza': 2076,\n",
       " 'wf': 2142,\n",
       " 'upgrad': 2035,\n",
       " 'rw': 1726,\n",
       " 'pip': 1511,\n",
       " 'mlppp': 1258,\n",
       " 'gc': 794,\n",
       " 'crdd': 479,\n",
       " 'foc': 751,\n",
       " 'bpdd': 266,\n",
       " 'set': 1785,\n",
       " 'mpl': 1289,\n",
       " 'pop': 1541,\n",
       " 'dnj': 570,\n",
       " 'dnjge': 571,\n",
       " 'ce': 362,\n",
       " 'ip': 973,\n",
       " 'vpn': 2091,\n",
       " 'wellsfargo': 2139,\n",
       " 'west': 2140,\n",
       " 'dlci': 564,\n",
       " 'qo': 1598,\n",
       " 'md': 1199,\n",
       " 'timer': 1975,\n",
       " 'sc': 1752,\n",
       " 'rc': 1620,\n",
       " 'mc': 1193,\n",
       " 'rcvr': 1621,\n",
       " 'loc': 1121,\n",
       " 'tower': 1990,\n",
       " 'rd': 1622,\n",
       " 'aurora': 122,\n",
       " 'co': 424,\n",
       " 'unit': 2029,\n",
       " 'state': 1867,\n",
       " 'dmarc': 565,\n",
       " 'bldg': 246,\n",
       " 'main': 1148,\n",
       " 'flr': 746,\n",
       " 'st': 1859,\n",
       " 'rm': 1689,\n",
       " 'telco': 1950,\n",
       " 'mpoe': 1291,\n",
       " 'btn': 293,\n",
       " 'lcon': 1075,\n",
       " 'leugim': 1096,\n",
       " 'borr': 259,\n",
       " 'guerrero': 851,\n",
       " 'nuria': 1397,\n",
       " 'rivera': 1686,\n",
       " 'call': 319,\n",
       " 'dispatch': 557,\n",
       " 'work': 2166,\n",
       " 'requir': 1664,\n",
       " 'see': 1771,\n",
       " 'access': 9,\n",
       " 'cu': 490,\n",
       " 'hcu': 871,\n",
       " 'stephani': 1877,\n",
       " 'hopson': 896,\n",
       " 'site': 1815,\n",
       " 'deliveri': 523,\n",
       " 'notifi': 1385,\n",
       " 'leo': 1091,\n",
       " 'number': 1395,\n",
       " 'prior': 1563,\n",
       " 'arriv': 96,\n",
       " 'onsit': 1425,\n",
       " 'frame': 764,\n",
       " 'bcblbc': 191,\n",
       " 'ckt': 403,\n",
       " 'nearest': 1337,\n",
       " 'date': 512,\n",
       " 'saj': 1734,\n",
       " 'sajg': 1735,\n",
       " 'central': 368,\n",
       " 'th': 1965,\n",
       " 'brownsvil': 286,\n",
       " 'tx': 2016,\n",
       " 'ext': 710,\n",
       " 'next': 1353,\n",
       " 'instal': 957,\n",
       " 'david': 514,\n",
       " 'merril': 1229,\n",
       " 'monica': 1274,\n",
       " 'fuent': 778,\n",
       " 'rhonda': 1677,\n",
       " 'shaffner': 1794,\n",
       " 'hour': 903,\n",
       " 'advanc': 29,\n",
       " 'arrang': 95,\n",
       " 'hstn': 908,\n",
       " 'hstnge': 909,\n",
       " 'north': 1381,\n",
       " 'fwi': 783,\n",
       " 'houston': 904,\n",
       " 'patti': 1477,\n",
       " 'stripl': 1885,\n",
       " 'megan': 1223,\n",
       " 'nixon': 1362,\n",
       " 'mto': 1299,\n",
       " 'mainten': 1151,\n",
       " 'sm': 1821,\n",
       " 'router': 1709,\n",
       " 'switc': 1913,\n",
       " 'id': 919,\n",
       " 'dn': 567,\n",
       " 'short': 1805,\n",
       " 'bsacorp': 290,\n",
       " 'arnh': 92,\n",
       " 'remov': 1650,\n",
       " 'entiti': 673,\n",
       " 'rteu': 1712,\n",
       " 'replac': 1655,\n",
       " 'new': 1350,\n",
       " 'attach': 115,\n",
       " 'non': 1374,\n",
       " 'standard': 1862,\n",
       " 'quot': 1606,\n",
       " 'es': 681,\n",
       " 'contact': 453,\n",
       " 'earl': 606,\n",
       " 'johnson': 1021,\n",
       " 'relat': 1646,\n",
       " 'soc': 1834,\n",
       " 'code': 425,\n",
       " 'activ': 18,\n",
       " 'globalink': 823,\n",
       " 'ecost': 611,\n",
       " 'technic': 1946,\n",
       " 'ms': 1295,\n",
       " 'pm': 1530,\n",
       " 'raymond': 1619,\n",
       " 'castro': 346,\n",
       " 'custom': 492,\n",
       " 'face': 713,\n",
       " 'issu': 985,\n",
       " 'ethel': 691,\n",
       " 'ruth': 1725,\n",
       " 'renomeron': 1652,\n",
       " 'michael': 1241,\n",
       " 'sherril': 1800,\n",
       " 'shortnam': 1806,\n",
       " 'balfourbeatti': 148,\n",
       " 'gnsi': 828,\n",
       " 'migrat': 1244,\n",
       " 'ceas': 363,\n",
       " 'templat': 1955,\n",
       " 'legaci': 1087,\n",
       " 'vrd': 2095,\n",
       " 'edbk': 615,\n",
       " 'bg': 233,\n",
       " 'pq': 1551,\n",
       " 'transport': 2005,\n",
       " 'use': 2045,\n",
       " 'pstn': 1582,\n",
       " 'oob': 1426,\n",
       " 'ye': 2192,\n",
       " 'detail': 536,\n",
       " 'andi': 69,\n",
       " 'ingriselli': 953,\n",
       " 'mobil': 1265,\n",
       " 'sunlif': 1892,\n",
       " 'bill': 237,\n",
       " 'stop': 1880,\n",
       " 'start': 1865,\n",
       " 'tbd': 1939,\n",
       " 'addit': 21,\n",
       " 'comment': 437,\n",
       " 'must': 1309,\n",
       " 'servic': 1784,\n",
       " 'negoti': 1339,\n",
       " 'dual': 593,\n",
       " 'run': 1724,\n",
       " 'period': 1495,\n",
       " 'known': 1057,\n",
       " 'stage': 1861,\n",
       " 'want': 2124,\n",
       " 'coordin': 458,\n",
       " 'hotcut': 901,\n",
       " 'without': 2158,\n",
       " 'old': 1416,\n",
       " 'send': 1778,\n",
       " 'notic': 1384,\n",
       " 'philip': 1502,\n",
       " 'balauag': 147,\n",
       " 'provis': 1579,\n",
       " 'team': 1944,\n",
       " 'concern': 445,\n",
       " 'alt': 57,\n",
       " 'avail': 131,\n",
       " 'andrea': 70,\n",
       " 'de': 518,\n",
       " 'lo': 1120,\n",
       " 'santo': 1744,\n",
       " 'paulyn': 1478,\n",
       " 'jame': 993,\n",
       " 'delossanto': 526,\n",
       " 'assist': 109,\n",
       " 'ad': 19,\n",
       " 'threshold': 1970,\n",
       " 'report': 1657,\n",
       " 'mrv': 1294,\n",
       " 'per': 1493,\n",
       " 'devic': 538,\n",
       " 'cw': 496,\n",
       " 'request': 1662,\n",
       " 'move': 1284,\n",
       " 'node': 1372,\n",
       " 'puerto': 1588,\n",
       " 'rico': 1681,\n",
       " 'snjne': 1830,\n",
       " 'engin': 668,\n",
       " 'approv': 89,\n",
       " 'address': 23,\n",
       " 'lui': 1139,\n",
       " 'munoz': 1308,\n",
       " 'intern': 964,\n",
       " 'airport': 38,\n",
       " 'termin': 1960,\n",
       " 'san': 1739,\n",
       " 'juan': 1029,\n",
       " 'pr': 1552,\n",
       " 'gener': 801,\n",
       " 'hector': 876,\n",
       " 'camacho': 320,\n",
       " 'jetblu': 1008,\n",
       " 'demark': 529,\n",
       " 'offic': 1408,\n",
       " 'verif': 2068,\n",
       " 'form': 756,\n",
       " 'vrf': 2096,\n",
       " 'emerg': 658,\n",
       " 'concentrix': 443,\n",
       " 'bell': 223,\n",
       " 'canada': 324,\n",
       " 'cancel': 325,\n",
       " 'corp': 465,\n",
       " 'port': 1542,\n",
       " 'establish': 686,\n",
       " 'ef': 641,\n",
       " 'keybank': 1048,\n",
       " 'downgrad': 582,\n",
       " 'peak': 1489,\n",
       " 'rate': 1617,\n",
       " 'changesurg': 377,\n",
       " 'car': 329,\n",
       " 'nk': 1364,\n",
       " 'nm': 1369,\n",
       " 'nissan': 1361,\n",
       " 'dx': 600,\n",
       " 'speed': 1850,\n",
       " 'done': 580,\n",
       " 'et': 687,\n",
       " 'mn': 1263,\n",
       " 'bcblcj': 213,\n",
       " 'lake': 1068,\n",
       " 'ave': 132,\n",
       " 'plymouth': 1529,\n",
       " 'note': 1382,\n",
       " 'improv': 937,\n",
       " 'latenc': 1071,\n",
       " 'hot': 900,\n",
       " 'cut': 494,\n",
       " 'plsh': 1526,\n",
       " 'cdr': 361,\n",
       " 'bcblbngr': 198,\n",
       " 'current': 491,\n",
       " 'gige': 814,\n",
       " 'edblbngp': 626,\n",
       " 'cpe': 474,\n",
       " 'provid': 1577,\n",
       " 'inet': 946,\n",
       " 'john': 1020,\n",
       " 'dacunto': 501,\n",
       " 'nate': 1327,\n",
       " 'purchas': 1590,\n",
       " 'small': 1822,\n",
       " 'gpack': 833,\n",
       " 'pacmdfrt': 1453,\n",
       " 'premisi': 1555,\n",
       " 'wd': 2134,\n",
       " 'import': 936,\n",
       " 'managed': 1159,\n",
       " 'netflow': 1344,\n",
       " 'mbp': 1190,\n",
       " 'may': 1186,\n",
       " 'joson': 1026,\n",
       " 'katherin': 1036,\n",
       " 'macaambac': 1144,\n",
       " 'katrina': 1037,\n",
       " 'med': 1214,\n",
       " 'akrn': 40,\n",
       " 'av': 130,\n",
       " 'nc': 1333,\n",
       " 'point': 1539,\n",
       " 'wap': 2125,\n",
       " 'model': 1267,\n",
       " 'ap': 83,\n",
       " 'smile': 1827,\n",
       " 'wang': 2123,\n",
       " 'xiangxu': 2185,\n",
       " 'carestream': 335,\n",
       " 'comalcon': 432,\n",
       " 'francoi': 767,\n",
       " 'gro': 842,\n",
       " 'tag': 1927,\n",
       " 'level': 1097,\n",
       " 'pvc': 1595,\n",
       " 'vlan': 2083,\n",
       " 'subnet': 1889,\n",
       " 'americanm': 64,\n",
       " 'make': 1155,\n",
       " 'sure': 1900,\n",
       " 'sscorpoffic': 1858,\n",
       " 'support': 1898,\n",
       " 'multi': 1304,\n",
       " 'queu': 1603,\n",
       " 'follow': 754,\n",
       " 'branchbanktrust': 273,\n",
       " 'iwan': 991,\n",
       " 'profil': 1571,\n",
       " 'gold': 831,\n",
       " 'valu': 2057,\n",
       " 'edit': 638,\n",
       " 'reason': 1627,\n",
       " 'leav': 1081,\n",
       " 'escal': 682,\n",
       " 'mb': 1187,\n",
       " 'bcbj': 167,\n",
       " 'al': 41,\n",
       " 'floor': 742,\n",
       " 'room': 1702,\n",
       " 'equip': 679,\n",
       " 'locat': 1123,\n",
       " 'appoint': 88,\n",
       " 'need': 1338,\n",
       " 'bridgett': 282,\n",
       " 'harri': 864,\n",
       " 'rosemari': 1704,\n",
       " 'perez': 1494,\n",
       " 'pl': 1517,\n",
       " 'ptn': 1587,\n",
       " 'cpz': 475,\n",
       " 'cpzge': 476,\n",
       " 'os': 1441,\n",
       " 'christian': 389,\n",
       " 'tapar': 1932,\n",
       " 'sent': 1780,\n",
       " 'mari': 1171,\n",
       " 'bautista': 163,\n",
       " 'mylen': 1317,\n",
       " 'vital': 2082,\n",
       " 'local': 1122,\n",
       " 'myv': 1318,\n",
       " 'fairview': 717,\n",
       " 'rosevil': 1706,\n",
       " 'nd': 1335,\n",
       " 'fl': 740,\n",
       " 'closet': 417,\n",
       " 'aziza': 139,\n",
       " 'skenderev': 1818,\n",
       " 'mzz': 1319,\n",
       " 'mzzge': 1320,\n",
       " 'bcbkytji': 188,\n",
       " 'se': 1763,\n",
       " 'bothel': 262,\n",
       " 'wa': 2113,\n",
       " 'pam': 1457,\n",
       " 'gasaway': 790,\n",
       " 'sej': 1772,\n",
       " 'sejg': 1773,\n",
       " 'east': 608,\n",
       " 'fro': 773,\n",
       " 'purpos': 1592,\n",
       " 'advis': 30,\n",
       " 'recent': 1631,\n",
       " 'tin': 1976,\n",
       " 'unabl': 2023,\n",
       " 'made': 1145,\n",
       " 'present': 1558,\n",
       " 'clgrge': 407,\n",
       " 'clgrxe': 408,\n",
       " 'transcanada': 2000,\n",
       " 'data': 511,\n",
       " 'center': 366,\n",
       " 'differ': 548,\n",
       " 'either': 647,\n",
       " 'whichev': 2145,\n",
       " 'easier': 607,\n",
       " 'calgari': 317,\n",
       " 'type': 2018,\n",
       " 'process': 1568,\n",
       " 'immedi': 932,\n",
       " 'van': 2058,\n",
       " 'nuy': 1398,\n",
       " 'blvd': 248,\n",
       " 'panorama': 1461,\n",
       " 'citi': 400,\n",
       " 'ca': 310,\n",
       " 'employe': 659,\n",
       " 'breakroom': 276,\n",
       " 'cabinet': 312,\n",
       " 'diana': 547,\n",
       " 'galvez': 788,\n",
       " 'lsa': 1135,\n",
       " 'vtl': 2102,\n",
       " 'ax': 137,\n",
       " 'exis': 704,\n",
       " 'mpip': 1288,\n",
       " 'swap': 1905,\n",
       " 'special': 1847,\n",
       " 'price': 1561,\n",
       " 'gucci': 849,\n",
       " 'guccipip': 850,\n",
       " 'bv': 306,\n",
       " 'gsl': 845,\n",
       " 'sar': 1745,\n",
       " 'ea': 602,\n",
       " 'jfi': 1009,\n",
       " 'cv': 495,\n",
       " 'fpg': 761,\n",
       " 'pir': 1512,\n",
       " 'auuofb': 129,\n",
       " 'rev': 1673,\n",
       " 'imper': 934,\n",
       " 'lec': 1083,\n",
       " 'come': 434,\n",
       " 'problem': 1566,\n",
       " 'even': 697,\n",
       " 'technician': 1947,\n",
       " 'line': 1106,\n",
       " 'refer': 1639,\n",
       " 'nspe': 1391,\n",
       " 'way': 2130,\n",
       " 'westrock': 2141,\n",
       " 'ingev': 951,\n",
       " 'vpnuse': 2093,\n",
       " 'vpnsecond': 2092,\n",
       " 'msof': 1296,\n",
       " 'disput': 558,\n",
       " 'inq': 955,\n",
       " 'acct': 16,\n",
       " 'submit': 1888,\n",
       " 'wan': 2122,\n",
       " 'analysi': 68,\n",
       " 'bok': 254,\n",
       " 'never': 1349,\n",
       " 'folk': 753,\n",
       " 'back': 142,\n",
       " 'credit': 481,\n",
       " 'past': 1475,\n",
       " 'charg': 379,\n",
       " 'mrc': 1293,\n",
       " 'featur': 726,\n",
       " 'std': 1874,\n",
       " 'free': 771,\n",
       " 'edg': 637,\n",
       " 'thank': 1966,\n",
       " 'marc': 1169,\n",
       " 'wilson': 2152,\n",
       " 'darrel': 510,\n",
       " 'bank': 152,\n",
       " 'sa': 1729,\n",
       " 'statsin': 1870,\n",
       " 'justne': 1031,\n",
       " 'away': 136,\n",
       " 'tng': 1981,\n",
       " 'fr': 762,\n",
       " 'upgad': 2033,\n",
       " 'parallel': 1462,\n",
       " 'proquest': 1575,\n",
       " 'lend': 1090,\n",
       " 'well': 2138,\n",
       " 'logic': 1124,\n",
       " 'pay': 1479,\n",
       " 'care': 332,\n",
       " 'attent': 116,\n",
       " 'account': 15,\n",
       " 'take': 1929,\n",
       " 'info': 947,\n",
       " 'develop': 537,\n",
       " 'orderpro': 1436,\n",
       " 'configur': 449,\n",
       " 'associ': 110,\n",
       " 'ngrid': 1357,\n",
       " 'gridnet': 841,\n",
       " 'paramet': 1463,\n",
       " 'flow': 745,\n",
       " 'ipv': 975,\n",
       " 'bgp': 234,\n",
       " 'overrid': 1448,\n",
       " 'fals': 719,\n",
       " 'origin': 1440,\n",
       " 'allowasin': 53,\n",
       " 'bfd': 232,\n",
       " 'na': 1321,\n",
       " 'sendcommun': 1779,\n",
       " 'true': 2008,\n",
       " 'fragment': 763,\n",
       " 'multicast': 1305,\n",
       " 'meg': 1222,\n",
       " 'remain': 1648,\n",
       " 'exact': 698,\n",
       " 'place': 1518,\n",
       " 'final': 734,\n",
       " 'layout': 1073,\n",
       " 'kbp': 1040,\n",
       " 'project': 1572,\n",
       " 'barb': 153,\n",
       " 'genth': 803,\n",
       " 'barbara': 154,\n",
       " 'time': 1974,\n",
       " 'schedul': 1754,\n",
       " 'ethernet': 692,\n",
       " 'privat': 1564,\n",
       " 'nation': 1328,\n",
       " 'grid': 840,\n",
       " 'usa': 2043,\n",
       " 'legal': 1088,\n",
       " 'document': 577,\n",
       " 'letter': 1095,\n",
       " 'doc': 576,\n",
       " 'contract': 454,\n",
       " 'pom': 1540,\n",
       " 'jordan': 1023,\n",
       " 'wz': 2176,\n",
       " 'oe': 1407,\n",
       " 'noth': 1383,\n",
       " 'creat': 480,\n",
       " 'reflow': 1641,\n",
       " 'esp': 683,\n",
       " 'system': 1924,\n",
       " 'also': 56,\n",
       " 'swtmm': 1920,\n",
       " 'mspm': 1297,\n",
       " 'reflect': 1640,\n",
       " 'ordepro': 1434,\n",
       " 'limit': 1103,\n",
       " 'us': 2042,\n",
       " 'least': 1080,\n",
       " 'charact': 378,\n",
       " 'ixia': 992,\n",
       " 'ibp': 916,\n",
       " 'switch': 1914,\n",
       " 'hardwar': 863,\n",
       " 'host': 898,\n",
       " 'joco': 1019,\n",
       " 'bp': 264,\n",
       " 'serial': 1782,\n",
       " 'softwar': 1835,\n",
       " 'io': 972,\n",
       " 'mcdo': 1194,\n",
       " 'mgmt': 1236,\n",
       " 'total': 1987,\n",
       " 'daniel': 507,\n",
       " 'diamzon': 545,\n",
       " 'roma': 1698,\n",
       " 'alyanna': 61,\n",
       " 'cerillo': 371,\n",
       " 'bppd': 268,\n",
       " 'dnvr': 574,\n",
       " 'dnvrge': 575,\n",
       " 'parker': 1468,\n",
       " 'server': 1783,\n",
       " 'tercero': 1958,\n",
       " 'carlo': 337,\n",
       " 'lozano': 1133,\n",
       " 'firm': 736,\n",
       " 'nycm': 1404,\n",
       " 'nycmg': 1405,\n",
       " 'wood': 2164,\n",
       " 'iselin': 979,\n",
       " 'nj': 1363,\n",
       " 'ana': 66,\n",
       " 'miranda': 1253,\n",
       " 'lynch': 1142,\n",
       " 'catn': 350,\n",
       " 'catng': 351,\n",
       " 'cambridg': 321,\n",
       " 'woburn': 2163,\n",
       " 'basement': 159,\n",
       " 'suit': 1891,\n",
       " 'susan': 1901,\n",
       " 'busher': 303,\n",
       " 'bonni': 258,\n",
       " 'brandt': 275,\n",
       " 'poc': 1538,\n",
       " 'hostnam': 899,\n",
       " 'sscorp': 1856,\n",
       " 'ecuklodeu': 613,\n",
       " 'master': 1181,\n",
       " 'tev': 1963,\n",
       " 'alreadi': 55,\n",
       " 'confirm': 450,\n",
       " 'refresh': 1642,\n",
       " 'sinc': 1813,\n",
       " 'end': 664,\n",
       " 'life': 1098,\n",
       " 'sscorpcwclient': 1857,\n",
       " 'hall': 856,\n",
       " 'cab': 311,\n",
       " 'ec': 610,\n",
       " 'sec': 1765,\n",
       " 'taken': 1930,\n",
       " 'disco': 552,\n",
       " 'statu': 1871,\n",
       " 'isr': 983,\n",
       " 'emea': 657,\n",
       " 'nsap': 1390,\n",
       " 'deliv': 522,\n",
       " 'vz': 2106,\n",
       " 'cgyrk': 375,\n",
       " 'roan': 1691,\n",
       " 'nx': 1401,\n",
       " 'record': 1632,\n",
       " 'term': 1959,\n",
       " 'year': 2193,\n",
       " 'invoic': 971,\n",
       " 'step': 1876,\n",
       " 'toward': 1989,\n",
       " 'adjust': 27,\n",
       " 'shape': 1796,\n",
       " 'interfac': 963,\n",
       " 'base': 157,\n",
       " 'retain': 1669,\n",
       " 'cisco': 399,\n",
       " 'edbkyjgt': 621,\n",
       " 'bcbkyjg': 187,\n",
       " 'xt': 2189,\n",
       " 'loop': 1127,\n",
       " 'best': 229,\n",
       " 'possibl': 1546,\n",
       " 'due': 596,\n",
       " 'edblbgl': 622,\n",
       " 'bcblbgl': 193,\n",
       " 'evc': 696,\n",
       " 'peachtre': 1488,\n",
       " 'atlanta': 112,\n",
       " 'ga': 784,\n",
       " 'attribut': 118,\n",
       " 'asn': 105,\n",
       " 'ns': 1389,\n",
       " 'norfolksouthern': 1377,\n",
       " 'rout': 1707,\n",
       " 'protocol': 1576,\n",
       " 'encapsul': 663,\n",
       " 'plug': 1528,\n",
       " 'play': 1524,\n",
       " 'son': 1839,\n",
       " 'disconnectedvrd': 554,\n",
       " 'disconnect': 553,\n",
       " 'bridget': 281,\n",
       " 'mcmanustel': 1196,\n",
       " 'lebn': 1082,\n",
       " 'assign': 108,\n",
       " 'tracey': 1995,\n",
       " 'parman': 1469,\n",
       " 'transpar': 2004,\n",
       " 'physic': 1508,\n",
       " 'provinc': 1578,\n",
       " 'california': 318,\n",
       " 'coronado': 464,\n",
       " 'street': 1883,\n",
       " 'read': 1625,\n",
       " 'road': 1690,\n",
       " 'zip': 2210,\n",
       " 'postal': 1548,\n",
       " 'build': 297,\n",
       " 'comput': 441,\n",
       " 'oper': 1429,\n",
       " 'beer': 219,\n",
       " 'robyn': 1693,\n",
       " 'cell': 365,\n",
       " 'phone': 1506,\n",
       " 'robynalton': 1694,\n",
       " 'ge': 799,\n",
       " 'martinez': 1175,\n",
       " 'albert': 43,\n",
       " 'vendor': 2067,\n",
       " 'busi': 304,\n",
       " 'baset': 160,\n",
       " 'fastethernet': 720,\n",
       " 'mbit': 1189,\n",
       " 'autonom': 128,\n",
       " 'config': 448,\n",
       " 'vb': 2063,\n",
       " 'qualiti': 1600,\n",
       " 'delet': 521,\n",
       " 'placehold': 1519,\n",
       " 'internet': 965,\n",
       " 'pend': 1491,\n",
       " 'discontinu': 555,\n",
       " 'networx': 1347,\n",
       " 'meinhardswinden': 1224,\n",
       " 'strass': 1882,\n",
       " 'ansbach': 78,\n",
       " 'xx': 2190,\n",
       " 'accept': 8,\n",
       " 'sooner': 1842,\n",
       " 'sip': 1814,\n",
       " 'pmri': 1532,\n",
       " 'mr': 1292,\n",
       " 'ireland': 978,\n",
       " 'unclass': 2025,\n",
       " 'org': 1438,\n",
       " 'eu': 694,\n",
       " 'dodea': 579,\n",
       " 'edu': 640,\n",
       " 'dsn': 591,\n",
       " 've': 2066,\n",
       " 'vn': 2088,\n",
       " 'orch': 1433,\n",
       " 'infra': 949,\n",
       " 'cradl': 478,\n",
       " 'mdd': 1200,\n",
       " 'revis': 1675,\n",
       " 'clarif': 404,\n",
       " 'eia': 645,\n",
       " 'villafuert': 2077,\n",
       " 'gaffey': 786,\n",
       " 'pedro': 1490,\n",
       " 'erancho': 680,\n",
       " 'lpg': 1134,\n",
       " 'wallbil': 2119,\n",
       " 'zankich': 2208,\n",
       " 'wzankich': 2177,\n",
       " 'rancholpg': 1610,\n",
       " 'combcblb': 433,\n",
       " 'cmjba': 423,\n",
       " 'overid': 1446,\n",
       " 'nofor': 1373,\n",
       " 'ryan': 1727,\n",
       " 'neil': 1341,\n",
       " 'leah': 1078,\n",
       " 'faith': 718,\n",
       " 'espinoza': 684,\n",
       " 'bcbkb': 171,\n",
       " 'bcbkxxh': 185,\n",
       " 'jeann': 1002,\n",
       " 'kelley': 1042,\n",
       " 'primari': 1562,\n",
       " 'secondari': 1767,\n",
       " 'upgrd': 2036,\n",
       " 'bpddorder': 267,\n",
       " 'anaheim': 67,\n",
       " 'wilmington': 2151,\n",
       " 'valero': 2054,\n",
       " 'roomcathi': 1703,\n",
       " 'rasmussen': 1616,\n",
       " 'cathi': 349,\n",
       " 'comexist': 435,\n",
       " 'bcblb': 189,\n",
       " 'pn': 1533,\n",
       " 'cmj': 421,\n",
       " 'swit': 1912,\n",
       " 'ws': 2171,\n",
       " 'fd': 724,\n",
       " 'manufactur': 1166,\n",
       " 'mdusq': 1209,\n",
       " 'stack': 1860,\n",
       " 'kit': 1053,\n",
       " 'prrjg': 1580,\n",
       " 'ac': 6,\n",
       " 'power': 1549,\n",
       " 'suppli': 1897,\n",
       " 'mduwl': 1212,\n",
       " 'gbase': 793,\n",
       " 'sr': 1855,\n",
       " 'sfp': 1791,\n",
       " 'modul': 1271,\n",
       " 'extend': 711,\n",
       " 'temp': 1954,\n",
       " 'rang': 1613,\n",
       " 'iulia': 989,\n",
       " 'petcu': 1497,\n",
       " 'kindli': 1051,\n",
       " 'get': 811,\n",
       " 'rquest': 1711,\n",
       " 'carson': 343,\n",
       " 'tesoro': 1961,\n",
       " 'wall': 2118,\n",
       " 'jose': 1024,\n",
       " 'tsocorp': 2010,\n",
       " 'cmjb': 422,\n",
       " 'swtch': 1918,\n",
       " 'bcbkxxmn': 186,\n",
       " 'tacm': 1926,\n",
       " 'wh': 2144,\n",
       " 'netcom': 1343,\n",
       " 'iqemb': 977,\n",
       " 'longer': 1126,\n",
       " 'im': 930,\n",
       " 'rina': 1682,\n",
       " 'pierson': 1510,\n",
       " 'lsr': 1136,\n",
       " 'edblcfwb': 635,\n",
       " 'bcblcfxd': 210,\n",
       " 'mu': 1301,\n",
       " 'capac': 327,\n",
       " 'correct': 467,\n",
       " 'divers': 563,\n",
       " 'violat': 2078,\n",
       " 'bcblcfyy': 211,\n",
       " 'ntt': 1392,\n",
       " 'mdf': 1201,\n",
       " 'friday': 772,\n",
       " 'dalian': 503,\n",
       " 'dell': 524,\n",
       " 'china': 384,\n",
       " 'telecom': 1951,\n",
       " 'wait': 2114,\n",
       " 'edblcfwc': 636,\n",
       " 'janeth': 995,\n",
       " 'millan': 1249,\n",
       " 'sheila': 1799,\n",
       " 'lomuntad': 1125,\n",
       " 'edbkv': 618,\n",
       " 'bcbkv': 178,\n",
       " 'ys': 2206,\n",
       " 'dgn': 541,\n",
       " 'dg': 540,\n",
       " 'dww': 599,\n",
       " 'rlc': 1688,\n",
       " 'skr': 1819,\n",
       " 'bcbkctw': 172,\n",
       " 'bridgeston': 280,\n",
       " 'america': 63,\n",
       " 'inc': 938,\n",
       " 'kbc': 1039,\n",
       " 'monitor': 1275,\n",
       " 'medium': 1218,\n",
       " 'size': 1817,\n",
       " 'own': 1450,\n",
       " 'maintain': 1150,\n",
       " 'sev': 1786,\n",
       " 'semaforro': 1776,\n",
       " 'enel': 665,\n",
       " 'metro': 1232,\n",
       " 'sur': 1899,\n",
       " 'managua': 1161,\n",
       " 'nicaragua': 1359,\n",
       " 'fortig': 758,\n",
       " 'bcblbv': 204,\n",
       " 'svc': 1902,\n",
       " 'edblbv': 629,\n",
       " 'mdwmb': 1213,\n",
       " 'shore': 1804,\n",
       " 'ste': 1875,\n",
       " 'tampa': 1931,\n",
       " 'lisa': 1110,\n",
       " 'metzel': 1233,\n",
       " 'voya': 2090,\n",
       " 'basi': 162,\n",
       " 'miguel': 1245,\n",
       " 'angelo': 72,\n",
       " 'migz': 1246,\n",
       " 'recald': 1629,\n",
       " 'lim': 1101,\n",
       " 'tc': 1940,\n",
       " 'molloy': 1272,\n",
       " 'bvg': 307,\n",
       " 'bri': 279,\n",
       " 'mg': 1235,\n",
       " 'svmb': 1903,\n",
       " 'plaza': 1525,\n",
       " 'raleigh': 1609,\n",
       " 'ng': 1355,\n",
       " 'ds': 590,\n",
       " 'hlb': 889,\n",
       " 'madison': 1146,\n",
       " 'york': 2203,\n",
       " 'nora': 1376,\n",
       " 'coolahan': 457,\n",
       " 'pace': 1452,\n",
       " 'victoria': 2073,\n",
       " 'martin': 1174,\n",
       " 'ronquillo': 1701,\n",
       " 'cm': 420,\n",
       " 'umb': 2022,\n",
       " 'nevada': 1348,\n",
       " 'redland': 1636,\n",
       " 'facil': 714,\n",
       " 'dot': 581,\n",
       " 'tw': 2015,\n",
       " 'kevin': 1047,\n",
       " 'hopkin': 895,\n",
       " 'accomplish': 14,\n",
       " 'urgent': 2040,\n",
       " 'po': 1534,\n",
       " 'demarc': 527,\n",
       " 'salt': 1737,\n",
       " 'utah': 2051,\n",
       " 'additionasl': 22,\n",
       " 'full': 779,\n",
       " 'acco': 12,\n",
       " 'brand': 274,\n",
       " 'tornaco': 1984,\n",
       " 'itali': 986,\n",
       " 'meet': 1221,\n",
       " 'ln': 1118,\n",
       " 'satellit': 1749,\n",
       " 'rz': 1728,\n",
       " 'sh': 1793,\n",
       " 'inventori': 969,\n",
       " 'descr': 531,\n",
       " 'chassi': 381,\n",
       " 'hw': 912,\n",
       " 'ftx': 775,\n",
       " 'pid': 1509,\n",
       " 'vid': 2075,\n",
       " 'sn': 1828,\n",
       " 'store': 1881,\n",
       " 'reus': 1672,\n",
       " 'galleria': 787,\n",
       " 'ii': 927,\n",
       " 'shop': 1803,\n",
       " 'gg': 812,\n",
       " 'jg': 1010,\n",
       " 'strict': 1884,\n",
       " 'secur': 1769,\n",
       " 'mandatori': 1162,\n",
       " 'hr': 907,\n",
       " 'lead': 1077,\n",
       " 'lconmandatori': 1076,\n",
       " 'fix': 737,\n",
       " 'previou': 1560,\n",
       " 'instead': 958,\n",
       " 'asid': 104,\n",
       " 'diageo': 544,\n",
       " 'louisvil': 1132,\n",
       " 'tu': 2011,\n",
       " 'etc': 688,\n",
       " 'list': 1111,\n",
       " 'sheet': 1798,\n",
       " 'burlington': 302,\n",
       " 'mwan': 1315,\n",
       " 'exp': 707,\n",
       " 'usmcocmr': 2049,\n",
       " 'vzbi': 2111,\n",
       " 'italia': 987,\n",
       " 'abm': 3,\n",
       " 'sauc': 1750,\n",
       " 'montevideo': 1276,\n",
       " 'uruguay': 2041,\n",
       " 'ccv': 360,\n",
       " 'yfai': 2200,\n",
       " 'let': 1094,\n",
       " 'know': 1056,\n",
       " 'ftz': 776,\n",
       " 'elena': 650,\n",
       " 'lahmann': 1067,\n",
       " 'rohmos': 1697,\n",
       " 'costa': 470,\n",
       " 'rica': 1678,\n",
       " 'gl': 819,\n",
       " 'clonshaugh': 415,\n",
       " 'dublin': 595,\n",
       " 'bne': 250,\n",
       " 'wrong': 2170,\n",
       " 'bea': 217,\n",
       " 'box': 263,\n",
       " 'sourcephoton': 1843,\n",
       " 'spgblxidfnov': 1851,\n",
       " 'spdrir': 1846,\n",
       " 'idfmov': 924,\n",
       " 'incorrect': 940,\n",
       " 'bcblbp': 200,\n",
       " 'onlyesp': 1424,\n",
       " 'net': 1342,\n",
       " 'fred': 769,\n",
       " 'tipton': 1977,\n",
       " 'transmiss': 2003,\n",
       " ...}"
      ]
     },
     "execution_count": 51,
     "metadata": {},
     "output_type": "execute_result"
    }
   ],
   "source": [
    "cv.vocabulary_"
   ]
  },
  {
   "cell_type": "code",
   "execution_count": 52,
   "metadata": {},
   "outputs": [
    {
     "data": {
      "text/plain": [
       "3.4779379804719071"
      ]
     },
     "execution_count": 52,
     "metadata": {},
     "output_type": "execute_result"
    }
   ],
   "source": [
    "tfidf.idf_[cv.vocabulary_['etm']]"
   ]
  },
  {
   "cell_type": "code",
   "execution_count": 53,
   "metadata": {
    "collapsed": true
   },
   "outputs": [],
   "source": [
    "from sklearn.cluster import KMeans"
   ]
  },
  {
   "cell_type": "code",
   "execution_count": 54,
   "metadata": {
    "collapsed": true
   },
   "outputs": [],
   "source": [
    "km = KMeans(n_clusters=15)"
   ]
  },
  {
   "cell_type": "code",
   "execution_count": 55,
   "metadata": {},
   "outputs": [
    {
     "data": {
      "text/plain": [
       "array([ 3,  3,  8,  0,  8,  0,  8,  5,  3, 13,  9,  3, 11, 14, 14,  9,  3,\n",
       "        9, 12, 13, 13, 13, 11, 12,  5,  5,  3, 10,  3, 14, 12,  0,  1,  1,\n",
       "        0,  1, 11, 11, 14, 14,  3,  1, 11, 11,  3, 11, 14, 10,  3, 10, 14,\n",
       "       14, 14, 12, 12, 10, 14,  3, 12,  3,  8,  8,  8,  3,  3, 10,  3,  5,\n",
       "        5, 10,  3,  3,  3, 10, 13, 13, 13, 10,  9, 11, 11,  6,  6, 13, 13,\n",
       "        9, 10, 13, 13, 13,  9, 13,  9,  5,  5,  5,  5, 12, 11, 14,  3,  3,\n",
       "        3,  3,  9,  3,  3,  3, 12, 12, 11,  3,  3,  3, 11,  3, 11, 11, 10,\n",
       "       10,  1, 13,  1,  1,  1,  1,  1, 12,  3,  3,  5,  5,  6,  6,  9,  4,\n",
       "        4,  4,  4,  4,  1,  9, 12, 10, 12, 12,  8, 12, 10,  3,  9, 11,  8,\n",
       "       12,  3,  3, 12,  4,  4,  4,  3, 12, 12,  3, 14, 14, 14, 14, 10,  7,\n",
       "       12, 12,  3, 10,  4,  4,  3,  4,  4,  4,  3, 11,  3,  3,  3,  3,  5,\n",
       "       12,  5,  3, 12, 11, 12,  3, 10, 10,  3,  3, 11, 10, 10, 11, 10, 10,\n",
       "       10, 10, 10, 10,  3, 10,  7, 11, 11, 12,  8, 11,  3, 13, 13, 13,  3,\n",
       "        3, 13, 13, 13, 13,  1, 11,  8, 14,  3, 12, 12, 12,  8,  0, 12, 12,\n",
       "        8,  3, 12, 12, 11, 11, 11, 11, 11,  8,  8, 11, 12,  3,  3, 12,  8,\n",
       "        3,  3,  1,  3,  3, 10, 12, 11,  0,  3, 10, 12, 10, 10,  3,  5,  3,\n",
       "        3,  3,  3,  3, 12,  3, 14,  3, 12, 12, 11, 11, 11,  3,  1, 12, 10,\n",
       "       10, 10, 11, 10,  3, 10,  3, 11, 10,  3, 10, 10, 14,  3,  8,  0, 10,\n",
       "        3,  3,  3,  8, 11,  3, 11, 11, 14, 11, 12, 14, 12,  8,  3, 12,  3,\n",
       "       10, 10,  3, 14,  8,  0, 11,  8,  6, 11, 11, 10, 11, 11, 10, 11, 11,\n",
       "       10, 11, 11,  3, 13,  3, 11,  7,  1,  1,  3,  3,  1,  1, 12, 12, 12,\n",
       "       12,  7, 10, 12,  5,  7,  7,  7,  7,  7,  7,  7,  7,  3,  7,  7,  6,\n",
       "        6,  6,  6,  5,  5, 14, 14,  6, 11, 11,  3,  3,  3, 11, 11,  3, 12,\n",
       "       12, 10,  8, 11, 11, 10, 11,  7,  3,  7,  3, 11, 12, 12, 12,  3, 11,\n",
       "       12,  3, 10, 10,  7, 11,  6,  6,  6,  6, 14, 14, 14, 14, 14, 10,  3,\n",
       "       12, 10, 10, 11,  3, 11, 11, 11, 11,  3,  3,  7,  7,  7,  7,  7,  7,\n",
       "        7,  7,  7,  7,  2,  3,  3,  3,  3,  3, 14,  3, 10,  1,  2,  2,  1,\n",
       "        7,  1,  3,  2,  1,  1, 10, 12,  3,  2,  2, 10,  2, 14,  2,  2,  1,\n",
       "        1,  1,  3,  3,  3,  1,  1,  1,  1,  1,  1, 12,  3,  3,  3, 10, 14,\n",
       "        3,  3, 10,  7,  7, 10, 10,  7, 10,  8,  0, 10,  8,  0,  8,  0, 10,\n",
       "       12, 10,  3,  3,  3,  3,  3,  8, 10, 12, 14, 14, 14, 14, 10, 10,  1,\n",
       "       10, 10, 11, 11, 10, 10,  3,  3, 10, 10, 12,  3, 12, 11, 10,  3,  3,\n",
       "       13,  9,  3, 13,  3,  3, 13, 10, 10, 13, 13,  3,  3,  3,  8,  0, 13,\n",
       "       10, 10, 10, 10,  3,  3,  3,  3,  3,  3])"
      ]
     },
     "execution_count": 55,
     "metadata": {},
     "output_type": "execute_result"
    }
   ],
   "source": [
    "km.fit_predict(comments_tfidf)"
   ]
  },
  {
   "cell_type": "code",
   "execution_count": 56,
   "metadata": {},
   "outputs": [
    {
     "data": {
      "text/plain": [
       "array([ 3,  3,  8,  0,  8,  0,  8,  5,  3, 13,  9,  3, 11, 14, 14,  9,  3,\n",
       "        9, 12, 13, 13, 13, 11, 12,  5,  5,  3, 10,  3, 14, 12,  0,  1,  1,\n",
       "        0,  1, 11, 11, 14, 14,  3,  1, 11, 11,  3, 11, 14, 10,  3, 10, 14,\n",
       "       14, 14, 12, 12, 10, 14,  3, 12,  3,  8,  8,  8,  3,  3, 10,  3,  5,\n",
       "        5, 10,  3,  3,  3, 10, 13, 13, 13, 10,  9, 11, 11,  6,  6, 13, 13,\n",
       "        9, 10, 13, 13, 13,  9, 13,  9,  5,  5,  5,  5, 12, 11, 14,  3,  3,\n",
       "        3,  3,  9,  3,  3,  3, 12, 12, 11,  3,  3,  3, 11,  3, 11, 11, 10,\n",
       "       10,  1, 13,  1,  1,  1,  1,  1, 12,  3,  3,  5,  5,  6,  6,  9,  4,\n",
       "        4,  4,  4,  4,  1,  9, 12, 10, 12, 12,  8, 12, 10,  3,  9, 11,  8,\n",
       "       12,  3,  3, 12,  4,  4,  4,  3, 12, 12,  3, 14, 14, 14, 14, 10,  7,\n",
       "       12, 12,  3, 10,  4,  4,  3,  4,  4,  4,  3, 11,  3,  3,  3,  3,  5,\n",
       "       12,  5,  3, 12, 11, 12,  3, 10, 10,  3,  3, 11, 10, 10, 11, 10, 10,\n",
       "       10, 10, 10, 10,  3, 10,  7, 11, 11, 12,  8, 11,  3, 13, 13, 13,  3,\n",
       "        3, 13, 13, 13, 13,  1, 11,  8, 14,  3, 12, 12, 12,  8,  0, 12, 12,\n",
       "        8,  3, 12, 12, 11, 11, 11, 11, 11,  8,  8, 11, 12,  3,  3, 12,  8,\n",
       "        3,  3,  1,  3,  3, 10, 12, 11,  0,  3, 10, 12, 10, 10,  3,  5,  3,\n",
       "        3,  3,  3,  3, 12,  3, 14,  3, 12, 12, 11, 11, 11,  3,  1, 12, 10,\n",
       "       10, 10, 11, 10,  3, 10,  3, 11, 10,  3, 10, 10, 14,  3,  8,  0, 10,\n",
       "        3,  3,  3,  8, 11,  3, 11, 11, 14, 11, 12, 14, 12,  8,  3, 12,  3,\n",
       "       10, 10,  3, 14,  8,  0, 11,  8,  6, 11, 11, 10, 11, 11, 10, 11, 11,\n",
       "       10, 11, 11,  3, 13,  3, 11,  7,  1,  1,  3,  3,  1,  1, 12, 12, 12,\n",
       "       12,  7, 10, 12,  5,  7,  7,  7,  7,  7,  7,  7,  7,  3,  7,  7,  6,\n",
       "        6,  6,  6,  5,  5, 14, 14,  6, 11, 11,  3,  3,  3, 11, 11,  3, 12,\n",
       "       12, 10,  8, 11, 11, 10, 11,  7,  3,  7,  3, 11, 12, 12, 12,  3, 11,\n",
       "       12,  3, 10, 10,  7, 11,  6,  6,  6,  6, 14, 14, 14, 14, 14, 10,  3,\n",
       "       12, 10, 10, 11,  3, 11, 11, 11, 11,  3,  3,  7,  7,  7,  7,  7,  7,\n",
       "        7,  7,  7,  7,  2,  3,  3,  3,  3,  3, 14,  3, 10,  1,  2,  2,  1,\n",
       "        7,  1,  3,  2,  1,  1, 10, 12,  3,  2,  2, 10,  2, 14,  2,  2,  1,\n",
       "        1,  1,  3,  3,  3,  1,  1,  1,  1,  1,  1, 12,  3,  3,  3, 10, 14,\n",
       "        3,  3, 10,  7,  7, 10, 10,  7, 10,  8,  0, 10,  8,  0,  8,  0, 10,\n",
       "       12, 10,  3,  3,  3,  3,  3,  8, 10, 12, 14, 14, 14, 14, 10, 10,  1,\n",
       "       10, 10, 11, 11, 10, 10,  3,  3, 10, 10, 12,  3, 12, 11, 10,  3,  3,\n",
       "       13,  9,  3, 13,  3,  3, 13, 10, 10, 13, 13,  3,  3,  3,  8,  0, 13,\n",
       "       10, 10, 10, 10,  3,  3,  3,  3,  3,  3])"
      ]
     },
     "execution_count": 56,
     "metadata": {},
     "output_type": "execute_result"
    }
   ],
   "source": [
    "km.labels_"
   ]
  },
  {
   "cell_type": "code",
   "execution_count": 34,
   "metadata": {},
   "outputs": [
    {
     "data": {
      "text/plain": [
       "<bound method KMeans.score of KMeans(algorithm='auto', copy_x=True, init='k-means++', max_iter=300,\n",
       "    n_clusters=15, n_init=10, n_jobs=1, precompute_distances='auto',\n",
       "    random_state=None, tol=0.0001, verbose=0)>"
      ]
     },
     "execution_count": 34,
     "metadata": {},
     "output_type": "execute_result"
    }
   ],
   "source": [
    "km.score"
   ]
  },
  {
   "cell_type": "code",
   "execution_count": 58,
   "metadata": {
    "collapsed": true
   },
   "outputs": [],
   "source": [
    "res = pd.concat([comments['COMMENTS'], comments_final, pd.Series(km.labels_)], axis = 1)\n",
    "writer = pd.ExcelWriter('C:/Users/v536256/Desktop/End to End Analytics/Cluster_k15_v1.xlsx')\n",
    "res.to_excel(writer,'Sheet1')\n",
    "writer.save()"
   ]
  },
  {
   "cell_type": "code",
   "execution_count": 112,
   "metadata": {
    "collapsed": true
   },
   "outputs": [],
   "source": [
    "from nltk.tokenize import sent_tokenize, word_tokenize"
   ]
  },
  {
   "cell_type": "code",
   "execution_count": 162,
   "metadata": {
    "collapsed": true
   },
   "outputs": [],
   "source": [
    "#word_tokenize('Asking to ask about what he asked')"
   ]
  },
  {
   "cell_type": "code",
   "execution_count": 36,
   "metadata": {},
   "outputs": [
    {
     "data": {
      "text/plain": [
       "-426.8729703622373"
      ]
     },
     "execution_count": 36,
     "metadata": {},
     "output_type": "execute_result"
    }
   ],
   "source": [
    "km.score(comments_tfidf)"
   ]
  },
  {
   "cell_type": "code",
   "execution_count": 260,
   "metadata": {
    "collapsed": true
   },
   "outputs": [],
   "source": [
    "k_list = np.arange(1, 71)\n",
    "score_list = [KMeans(n_clusters=i).fit(comments_tfidf).score(comments_tfidf) for i in np.arange(1,71)]"
   ]
  },
  {
   "cell_type": "code",
   "execution_count": 261,
   "metadata": {},
   "outputs": [
    {
     "data": {
      "text/plain": [
       "[<matplotlib.lines.Line2D at 0x2604cd4c8d0>]"
      ]
     },
     "execution_count": 261,
     "metadata": {},
     "output_type": "execute_result"
    },
    {
     "data": {
      "image/png": "[encoded data removed]",
      "text/plain": [
       "<matplotlib.figure.Figure at 0x2604bd1e860>"
      ]
     },
     "metadata": {},
     "output_type": "display_data"
    }
   ],
   "source": [
    "#Elbow\n",
    "plt.plot(k_list, score_list)  # No elbow :("
   ]
  },
  {
   "cell_type": "code",
   "execution_count": 195,
   "metadata": {},
   "outputs": [
    {
     "ename": "TypeError",
     "evalue": "score() missing 1 required positional argument: 'X'",
     "output_type": "error",
     "traceback": [
      "\u001b[1;31m---------------------------------------------------------------------------\u001b[0m",
      "\u001b[1;31mTypeError\u001b[0m                                 Traceback (most recent call last)",
      "\u001b[1;32m<ipython-input-195-604bfcaf142c>\u001b[0m in \u001b[0;36m<module>\u001b[1;34m()\u001b[0m\n\u001b[1;32m----> 1\u001b[1;33m \u001b[0mkm\u001b[0m\u001b[1;33m.\u001b[0m\u001b[0mscore\u001b[0m\u001b[1;33m(\u001b[0m\u001b[1;33m)\u001b[0m\u001b[1;33m\u001b[0m\u001b[0m\n\u001b[0m",
      "\u001b[1;31mTypeError\u001b[0m: score() missing 1 required positional argument: 'X'"
     ]
    }
   ],
   "source": [
    "km.score()"
   ]
  }
 ],
 "metadata": {
  "kernelspec": {
   "display_name": "Python 3",
   "language": "python",
   "name": "python3"
  },
  "language_info": {
   "codemirror_mode": {
    "name": "ipython",
    "version": 3
   },
   "file_extension": ".py",
   "mimetype": "text/x-python",
   "name": "python",
   "nbconvert_exporter": "python",
   "pygments_lexer": "ipython3",
   "version": "3.6.1"
  }
 },
 "nbformat": 4,
 "nbformat_minor": 2
}
