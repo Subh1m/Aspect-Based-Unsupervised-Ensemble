{
 "cells": [
  {
   "cell_type": "code",
   "execution_count": 1,
   "metadata": {},
   "outputs": [
    {
     "name": "stderr",
     "output_type": "stream",
     "text": [
      "/app/local/anaconda3/lib/python3.6/importlib/_bootstrap.py:205: RuntimeWarning: numpy.dtype size changed, may indicate binary incompatibility. Expected 96, got 88\n",
      "  return f(*args, **kwds)\n"
     ]
    }
   ],
   "source": [
    "import pandas as pd\n",
    "import numpy as np\n",
    "import matplotlib.pyplot as plt\n",
    "import seaborn as sns\n",
    "%matplotlib inline"
   ]
  },
  {
   "cell_type": "code",
   "execution_count": 27,
   "metadata": {},
   "outputs": [],
   "source": [
    "comments = pd.read_csv('data/reviews_Grocery_and_Gourmet_Food_5/aspect_Grocery_and_Gourmet_Food_5_reviewsentences.csv', names = ['Chat Aspects'])"
   ]
  },
  {
   "cell_type": "code",
   "execution_count": 8,
   "metadata": {},
   "outputs": [
    {
     "data": {
      "text/plain": [
       "'/log/for_ibm/Subham/AspExt'"
      ]
     },
     "execution_count": 8,
     "metadata": {},
     "output_type": "execute_result"
    }
   ],
   "source": [
    "pwd"
   ]
  },
  {
   "cell_type": "code",
   "execution_count": 21,
   "metadata": {},
   "outputs": [
    {
     "data": {
      "text/html": [
       "<div>\n",
       "<style scoped>\n",
       "    .dataframe tbody tr th:only-of-type {\n",
       "        vertical-align: middle;\n",
       "    }\n",
       "\n",
       "    .dataframe tbody tr th {\n",
       "        vertical-align: top;\n",
       "    }\n",
       "\n",
       "    .dataframe thead th {\n",
       "        text-align: right;\n",
       "    }\n",
       "</style>\n",
       "<table border=\"1\" class=\"dataframe\">\n",
       "  <thead>\n",
       "    <tr style=\"text-align: right;\">\n",
       "      <th></th>\n",
       "      <th>Chat Aspects</th>\n",
       "    </tr>\n",
       "  </thead>\n",
       "  <tbody>\n",
       "    <tr>\n",
       "      <th>0</th>\n",
       "      <td>standard milk chocolate kit kat</td>\n",
       "    </tr>\n",
       "    <tr>\n",
       "      <th>1</th>\n",
       "      <td>The green tea flavor subtle</td>\n",
       "    </tr>\n",
       "  </tbody>\n",
       "</table>\n",
       "</div>"
      ],
      "text/plain": [
       "                      Chat Aspects\n",
       "0  standard milk chocolate kit kat\n",
       "1      The green tea flavor subtle"
      ]
     },
     "execution_count": 21,
     "metadata": {},
     "output_type": "execute_result"
    }
   ],
   "source": [
    "comments.head(2)"
   ]
  },
  {
   "cell_type": "code",
   "execution_count": 4,
   "metadata": {},
   "outputs": [
    {
     "data": {
      "text/plain": [
       "['standard', 'milk', 'chocolate', 'kit', 'kat']"
      ]
     },
     "execution_count": 4,
     "metadata": {},
     "output_type": "execute_result"
    }
   ],
   "source": [
    "comments['Chat Aspects'][0].lower().split()"
   ]
  },
  {
   "cell_type": "code",
   "execution_count": 3,
   "metadata": {},
   "outputs": [
    {
     "data": {
      "text/plain": [
       "148750"
      ]
     },
     "execution_count": 3,
     "metadata": {},
     "output_type": "execute_result"
    }
   ],
   "source": [
    "len(comments)"
   ]
  },
  {
   "cell_type": "code",
   "execution_count": 4,
   "metadata": {
    "collapsed": true
   },
   "outputs": [],
   "source": [
    "from nltk.corpus import stopwords\n",
    "from nltk.stem import PorterStemmer\n",
    "import string\n",
    "import re"
   ]
  },
  {
   "cell_type": "code",
   "execution_count": 13,
   "metadata": {
    "collapsed": true
   },
   "outputs": [],
   "source": [
    "#stopwords.words('english')"
   ]
  },
  {
   "cell_type": "code",
   "execution_count": 4,
   "metadata": {},
   "outputs": [
    {
     "data": {
      "text/plain": [
       "'!\"#$%&\\'()*+,-./:;<=>?@[\\\\]^_`{|}~'"
      ]
     },
     "execution_count": 4,
     "metadata": {},
     "output_type": "execute_result"
    }
   ],
   "source": [
    "string.punctuation"
   ]
  },
  {
   "cell_type": "code",
   "execution_count": 15,
   "metadata": {},
   "outputs": [
    {
     "name": "stdout",
     "output_type": "stream",
     "text": [
      "charge line plan\n"
     ]
    }
   ],
   "source": [
    "c1 = comments['Chat Aspects'][1]\n",
    "no_punc = [ch for ch in c1 if ch not in string.punctuation]\n",
    "print(''.join(no_punc))"
   ]
  },
  {
   "cell_type": "code",
   "execution_count": 5,
   "metadata": {},
   "outputs": [],
   "source": [
    "def CleanUp(sentence):\n",
    "    #no_punc = [ch for ch in sentence if ch not in string.punctuation]\n",
    "    #no_punc = [ch if ch not in string.punctuation else ' ' for ch in sentence]\n",
    "    no_punc = [ch if (ch not in string.punctuation and ch.isdigit()==False) else ' ' for ch in sentence]\n",
    "    #no_punc = re.sub(' +',' ',''.join(no_punc).lower().strip())\n",
    "    no_stop = [word for word in no_punc.split() if (word not in stopwords.words('english') and word.isdigit()==False)]\n",
    "    ps = PorterStemmer()\n",
    "    stem_word = [ps.stem(word) for word in no_stop]\n",
    "    return(' '.join(stem_word))"
   ]
  },
  {
   "cell_type": "code",
   "execution_count": 36,
   "metadata": {
    "collapsed": true
   },
   "outputs": [],
   "source": [
    "def clean_text(text):\n",
    "    \n",
    "    ## Remove puncuation\n",
    "    text = str(text)\n",
    "    text = text.translate(string.punctuation)\n",
    "    \n",
    "    ## Convert words to lower case and split them\n",
    "    text = text.lower().split()\n",
    "    \n",
    "    ## Remove stop words\n",
    "    stops = set(stopwords.words(\"english\"))\n",
    "    text = [w for w in text if not w in stops and len(w) >= 3]\n",
    "    \n",
    "    text = \" \".join(text)\n",
    "    ## Clean the text\n",
    "    text = re.sub(r\"[^A-Za-z0-9^,!.\\/'+-=]\", \" \", text)\n",
    "    text = re.sub(r\"what's\", \"what is \", text)\n",
    "    text = re.sub(r\"\\'s\", \" \", text)\n",
    "    text = re.sub(r\"\\'ve\", \" have \", text)\n",
    "    text = re.sub(r\"n't\", \" not \", text)\n",
    "    text = re.sub(r\"i'm\", \"i am \", text)\n",
    "    text = re.sub(r\"\\'re\", \" are \", text)\n",
    "    text = re.sub(r\"\\'d\", \" would \", text)\n",
    "    text = re.sub(r\"\\'ll\", \" will \", text)\n",
    "    text = re.sub(r\",\", \" \", text)\n",
    "    text = re.sub(r\"\\.\", \" \", text)\n",
    "    text = re.sub(r\"!\", \" ! \", text)\n",
    "    text = re.sub(r\"\\/\", \" \", text)\n",
    "    text = re.sub(r\"\\^\", \" ^ \", text)\n",
    "    text = re.sub(r\"\\+\", \" + \", text)\n",
    "    text = re.sub(r\"\\-\", \" - \", text)\n",
    "    text = re.sub(r\"\\=\", \" = \", text)\n",
    "    text = re.sub(r\"'\", \" \", text)\n",
    "    text = re.sub(r\"(\\d+)(k)\", r\"\\g<1>000\", text)\n",
    "    text = re.sub(r\":\", \" : \", text)\n",
    "    text = re.sub(r\" e g \", \" eg \", text)\n",
    "    text = re.sub(r\" b g \", \" bg \", text)\n",
    "    text = re.sub(r\" u s \", \" american \", text)\n",
    "    text = re.sub(r\"\\0s\", \"0\", text)\n",
    "    text = re.sub(r\" 9 11 \", \"911\", text)\n",
    "    text = re.sub(r\"e - mail\", \"email\", text)\n",
    "    text = re.sub(r\"j k\", \"jk\", text)\n",
    "    text = re.sub(r\"\\s{2,}\", \" \", text)\n",
    "    ## Stemming\n",
    "    #text = text.split()\n",
    "    #stemmer = SnowballStemmer('english')\n",
    "    #stemmed_words = [stemmer.stem(word) for word in text]\n",
    "    #text = \" \".join(stemmed_words)\n",
    "    return text"
   ]
  },
  {
   "cell_type": "code",
   "execution_count": 93,
   "metadata": {},
   "outputs": [
    {
     "data": {
      "text/plain": [
       "['fe', 'dfa21', 'fa', 'fea', 'sa!']"
      ]
     },
     "execution_count": 93,
     "metadata": {},
     "output_type": "execute_result"
    }
   ],
   "source": [
    "[word for word in 'fe 11 dfa21 as 343 fa  fea sa!'.split() if (word not in stopwords.words('english') and word.isdigit()==False)]\n"
   ]
  },
  {
   "cell_type": "code",
   "execution_count": 94,
   "metadata": {},
   "outputs": [
    {
     "data": {
      "text/plain": [
       "'ASDL DES D SQS LE ED QA ES'"
      ]
     },
     "execution_count": 94,
     "metadata": {},
     "output_type": "execute_result"
    }
   ],
   "source": [
    "re.sub(' +', ' ' , ''.join([ch if ch not in string.punctuation else ' ' for ch in 'ASDL/DES D SQS LE: ED QA:ES']))"
   ]
  },
  {
   "cell_type": "code",
   "execution_count": 24,
   "metadata": {},
   "outputs": [
    {
     "data": {
      "text/plain": [
       "pandas.core.series.Series"
      ]
     },
     "execution_count": 24,
     "metadata": {},
     "output_type": "execute_result"
    }
   ],
   "source": [
    "type(comments['Chat Aspects'])"
   ]
  },
  {
   "cell_type": "code",
   "execution_count": 37,
   "metadata": {
    "scrolled": true
   },
   "outputs": [
    {
     "data": {
      "text/plain": [
       "0    standard milk chocolate kit kat\n",
       "1            green tea flavor subtle\n",
       "2            among kit kat fans well\n",
       "3            green tea flavor subtle\n",
       "4      green tea candies tried still\n",
       "Name: Chat Aspects, dtype: object"
      ]
     },
     "execution_count": 37,
     "metadata": {},
     "output_type": "execute_result"
    }
   ],
   "source": [
    "comments_final = comments['Chat Aspects'].map(lambda x: clean_text(x))#.apply(CleanUp)\n",
    "comments_final = comments_final.dropna()\n",
    "comments_final.head()"
   ]
  },
  {
   "cell_type": "code",
   "execution_count": 8,
   "metadata": {},
   "outputs": [
    {
     "data": {
      "text/plain": [
       "'expensive good sea tea fan purchase candy'"
      ]
     },
     "execution_count": 8,
     "metadata": {},
     "output_type": "execute_result"
    }
   ],
   "source": [
    "comments_final[2]"
   ]
  },
  {
   "cell_type": "code",
   "execution_count": 97,
   "metadata": {},
   "outputs": [
    {
     "data": {
      "text/plain": [
       "\"sure 've covered everything\""
      ]
     },
     "execution_count": 97,
     "metadata": {},
     "output_type": "execute_result"
    }
   ],
   "source": [
    "comments['Chat Aspects'][2]"
   ]
  },
  {
   "cell_type": "code",
   "execution_count": 9,
   "metadata": {
    "collapsed": true
   },
   "outputs": [],
   "source": [
    "from sklearn.feature_extraction.text import CountVectorizer, TfidfTransformer"
   ]
  },
  {
   "cell_type": "code",
   "execution_count": 38,
   "metadata": {
    "collapsed": true
   },
   "outputs": [],
   "source": [
    "cv = CountVectorizer()"
   ]
  },
  {
   "cell_type": "code",
   "execution_count": 39,
   "metadata": {},
   "outputs": [],
   "source": [
    "comments_tf = cv.fit_transform(comments_final)"
   ]
  },
  {
   "cell_type": "code",
   "execution_count": 12,
   "metadata": {},
   "outputs": [
    {
     "data": {
      "text/plain": [
       "<89721x21786 sparse matrix of type '<class 'numpy.int64'>'\n",
       "\twith 479903 stored elements in Compressed Sparse Row format>"
      ]
     },
     "execution_count": 12,
     "metadata": {},
     "output_type": "execute_result"
    }
   ],
   "source": [
    "comments_tf"
   ]
  },
  {
   "cell_type": "code",
   "execution_count": 74,
   "metadata": {},
   "outputs": [
    {
     "data": {
      "text/plain": [
       "454209"
      ]
     },
     "execution_count": 74,
     "metadata": {},
     "output_type": "execute_result"
    }
   ],
   "source": [
    "comments_tf.nnz"
   ]
  },
  {
   "cell_type": "code",
   "execution_count": 75,
   "metadata": {},
   "outputs": [
    {
     "data": {
      "text/plain": [
       "'concern today'"
      ]
     },
     "execution_count": 75,
     "metadata": {},
     "output_type": "execute_result"
    }
   ],
   "source": [
    "comments_final[100]"
   ]
  },
  {
   "cell_type": "code",
   "execution_count": 76,
   "metadata": {},
   "outputs": [
    {
     "name": "stdout",
     "output_type": "stream",
     "text": [
      "  (0, 1763)\t1\n",
      "  (0, 8811)\t1\n"
     ]
    }
   ],
   "source": [
    "print(comments_tf[100])"
   ]
  },
  {
   "cell_type": "code",
   "execution_count": 40,
   "metadata": {
    "collapsed": true
   },
   "outputs": [],
   "source": [
    "tfidf = TfidfTransformer()"
   ]
  },
  {
   "cell_type": "code",
   "execution_count": 41,
   "metadata": {},
   "outputs": [
    {
     "name": "stderr",
     "output_type": "stream",
     "text": [
      "/app/local/anaconda3/lib/python3.6/site-packages/sklearn/feature_extraction/text.py:1059: FutureWarning: Conversion of the second argument of issubdtype from `float` to `np.floating` is deprecated. In future, it will be treated as `np.float64 == np.dtype(float).type`.\n",
      "  if hasattr(X, 'dtype') and np.issubdtype(X.dtype, np.float):\n"
     ]
    }
   ],
   "source": [
    "comments_tfidf = tfidf.fit_transform(comments_tf)"
   ]
  },
  {
   "cell_type": "code",
   "execution_count": 33,
   "metadata": {},
   "outputs": [
    {
     "data": {
      "text/plain": [
       "<89721x21786 sparse matrix of type '<class 'numpy.float64'>'\n",
       "\twith 479903 stored elements in Compressed Sparse Row format>"
      ]
     },
     "execution_count": 33,
     "metadata": {},
     "output_type": "execute_result"
    }
   ],
   "source": [
    "comments_tfidf"
   ]
  },
  {
   "cell_type": "code",
   "execution_count": 44,
   "metadata": {},
   "outputs": [
    {
     "name": "stdout",
     "output_type": "stream",
     "text": [
      "  (0, 5783)\t0.41990242509054765\n",
      "  (0, 5465)\t0.4861565528837323\n",
      "  (0, 3971)\t0.4798866000477694\n",
      "  (0, 10940)\t0.5975304264938114\n"
     ]
    }
   ],
   "source": [
    "print(comments_tfidf[100])"
   ]
  },
  {
   "cell_type": "code",
   "execution_count": 34,
   "metadata": {},
   "outputs": [
    {
     "data": {
      "text/plain": [
       "{'standard': 18162,\n",
       " 'milk': 12146,\n",
       " 'chocolate': 3937,\n",
       " 'kit': 10700,\n",
       " 'kat': 10573,\n",
       " 'the': 19396,\n",
       " 'green': 8823,\n",
       " 'tea': 19165,\n",
       " 'flavor': 7664,\n",
       " 'subtle': 18532,\n",
       " 'among': 1131,\n",
       " 'fans': 7252,\n",
       " 'well': 21204,\n",
       " 'candies': 3252,\n",
       " 'tried': 20110,\n",
       " 'but': 2998,\n",
       " 'still': 18314,\n",
       " 'best': 2214,\n",
       " 'kats': 10575,\n",
       " 've': 20732,\n",
       " 'ever': 6964,\n",
       " 'purchased': 15342,\n",
       " 'different': 5879,\n",
       " 'curries': 5309,\n",
       " 'because': 2089,\n",
       " 'mae': 11553,\n",
       " 'ploy': 14606,\n",
       " 'thai': 19351,\n",
       " 'curry': 5310,\n",
       " 'paste': 14075,\n",
       " 'these': 19541,\n",
       " 'dyes': 6438,\n",
       " 'create': 5073,\n",
       " 'awesome': 1725,\n",
       " 'colors': 4415,\n",
       " 'couple': 4951,\n",
       " 'drops': 6342,\n",
       " 'really': 15655,\n",
       " 'vibrant': 20835,\n",
       " 'color': 4406,\n",
       " 'natural': 12761,\n",
       " 'organic': 13581,\n",
       " 'wish': 21403,\n",
       " 'nice': 12912,\n",
       " 'basic': 2004,\n",
       " 'selection': 16968,\n",
       " 'gel': 8364,\n",
       " 'food': 7868,\n",
       " 'colorings': 4413,\n",
       " 'product': 15116,\n",
       " 'seems': 16952,\n",
       " 'high': 9353,\n",
       " 'quality': 15423,\n",
       " 'energy': 6742,\n",
       " 'bar': 1929,\n",
       " 'better': 2224,\n",
       " 'average': 1700,\n",
       " 'tasting': 19120,\n",
       " 'sports': 18047,\n",
       " 'snack': 17614,\n",
       " 'listed': 11270,\n",
       " 'nutritional': 13136,\n",
       " 'information': 9958,\n",
       " 'powerbar': 14878,\n",
       " 'flavors': 7701,\n",
       " 'review': 16102,\n",
       " 'reynard': 16133,\n",
       " 'part': 14033,\n",
       " 'regular': 15842,\n",
       " 'morning': 12472,\n",
       " 'routine': 16408,\n",
       " 'times': 19751,\n",
       " 'asthma': 1598,\n",
       " 'attacks': 1638,\n",
       " 'protein': 15205,\n",
       " 'bars': 1975,\n",
       " 'most': 12489,\n",
       " 'enough': 6781,\n",
       " 'like': 11158,\n",
       " 'sugar': 18578,\n",
       " 'tastes': 19106,\n",
       " 'fat': 7287,\n",
       " 'no': 12957,\n",
       " 'fructose': 8159,\n",
       " 'corn': 4866,\n",
       " 'syrup': 18899,\n",
       " 'lot': 11406,\n",
       " 'fairly': 7214,\n",
       " 'coarsely': 4276,\n",
       " 'ground': 8888,\n",
       " 'coffee': 4323,\n",
       " 'decker': 5552,\n",
       " 'dcm18s': 5482,\n",
       " 'brew': 2767,\n",
       " 'go': 8590,\n",
       " 'personal': 14335,\n",
       " 'coffeemaker': 4339,\n",
       " 'travel': 20063,\n",
       " 'mug': 12579,\n",
       " 'another': 1268,\n",
       " 'supposed': 18741,\n",
       " 'benefit': 2173,\n",
       " 'paper': 13977,\n",
       " 'filters': 7525,\n",
       " 'one': 13449,\n",
       " 'cup': 5253,\n",
       " 'maker': 11607,\n",
       " 'sold': 17755,\n",
       " 'problems': 15093,\n",
       " 'loose': 11382,\n",
       " 'grinds': 8858,\n",
       " 'inside': 10046,\n",
       " 'individual': 9903,\n",
       " 'sized': 17411,\n",
       " 'ceramic': 3595,\n",
       " 'beverage': 2233,\n",
       " 'strainer': 18393,\n",
       " 'this': 19628,\n",
       " 'panda': 13953,\n",
       " 'good': 8629,\n",
       " 'licorice': 11116,\n",
       " 'soft': 17740,\n",
       " 'bites': 2328,\n",
       " 'inflated': 9950,\n",
       " 'rate': 15592,\n",
       " 'and': 1168,\n",
       " 'made': 11546,\n",
       " 'over': 13747,\n",
       " 'time': 19744,\n",
       " 'found': 7967,\n",
       " 'postum': 14792,\n",
       " 'qualities': 15422,\n",
       " 'roastaroma': 16254,\n",
       " 'actually': 715,\n",
       " 'version': 20816,\n",
       " 'white': 21298,\n",
       " 'sauce': 16680,\n",
       " 'pizza': 14516,\n",
       " 'magic': 11562,\n",
       " 'seasoning': 16892,\n",
       " 'blends': 2421,\n",
       " 'bottle': 2607,\n",
       " 'smells': 17566,\n",
       " 'fresh': 8084,\n",
       " 'near': 12795,\n",
       " 'much': 12560,\n",
       " 'many': 11708,\n",
       " 'enthusiasts': 6801,\n",
       " 'come': 4441,\n",
       " 'back': 1796,\n",
       " 'melitta': 11991,\n",
       " 'cone': 4622,\n",
       " 'filter': 7516,\n",
       " 'manual': 11699,\n",
       " 'smoother': 17592,\n",
       " 'priced': 15045,\n",
       " 'various': 20720,\n",
       " 'pour': 14840,\n",
       " 'everything': 6973,\n",
       " 'need': 12820,\n",
       " 'easy': 6478,\n",
       " 'of': 13244,\n",
       " 'usei': 20621,\n",
       " 'used': 20610,\n",
       " 'convenient': 4774,\n",
       " 'machines': 11533,\n",
       " 'if': 9712,\n",
       " 'camp': 3221,\n",
       " 'stove': 18379,\n",
       " 'it': 10280,\n",
       " 'important': 9788,\n",
       " 'consideration': 4676,\n",
       " 'cups': 5272,\n",
       " 'vs': 20975,\n",
       " 'mugs': 12584,\n",
       " 'choice': 3979,\n",
       " 'coffeeif': 4335,\n",
       " 'usually': 20638,\n",
       " 'tablespoons': 18957,\n",
       " 'per': 14276,\n",
       " 'via': 20830,\n",
       " 'amazon': 1095,\n",
       " 'on': 13445,\n",
       " 'making': 11619,\n",
       " 'use': 20608,\n",
       " 'unchlorinated': 20361,\n",
       " 'water': 21091,\n",
       " '203': 190,\n",
       " '42': 344,\n",
       " 'fast': 7281,\n",
       " 'touch': 19972,\n",
       " 'grinder': 8852,\n",
       " 'thecoffee': 19420,\n",
       " 'bean': 2055,\n",
       " 'direct': 5944,\n",
       " 'assorted': 1580,\n",
       " 'whole': 21310,\n",
       " 'sampler': 16606,\n",
       " 'value': 20676,\n",
       " 'porcelain': 14746,\n",
       " 'plastic': 14560,\n",
       " 'cones': 4624,\n",
       " '30': 270,\n",
       " '45': 354,\n",
       " 'seconds': 16909,\n",
       " 'steviapure': 18286,\n",
       " 'stevia': 18282,\n",
       " 'extract': 7122,\n",
       " 'powder': 14847,\n",
       " 'kal': 10553,\n",
       " 'ice': 9677,\n",
       " 'in': 9814,\n",
       " 'your': 21680,\n",
       " 'shopping': 17225,\n",
       " 'recommendationafter': 15718,\n",
       " 'major': 11601,\n",
       " 'grocery': 8877,\n",
       " 'expeditions': 7062,\n",
       " 'fan': 7243,\n",
       " 'steam': 18242,\n",
       " 'espresso': 6882,\n",
       " 'twenty': 20261,\n",
       " 'years': 21617,\n",
       " 'we': 21135,\n",
       " 'gone': 8625,\n",
       " 'countless': 4942,\n",
       " 'watery': 21116,\n",
       " 'shop': 17214,\n",
       " 'style': 18488,\n",
       " 'replacement': 15958,\n",
       " 'last': 10914,\n",
       " 'purchase': 15341,\n",
       " 'price': 15042,\n",
       " 'eighty': 6598,\n",
       " 'dollars': 6145,\n",
       " 'six': 17401,\n",
       " 'month': 12442,\n",
       " 'supply': 18732,\n",
       " 're': 15626,\n",
       " 'quart': 15429,\n",
       " 'thermal': 19532,\n",
       " 'capacity': 3293,\n",
       " 'brushed': 2873,\n",
       " 'stainless': 18148,\n",
       " 'steel': 18249,\n",
       " 'carafersvp': 3328,\n",
       " 'maunual': 11857,\n",
       " 'drip': 6320,\n",
       " 'carafes': 3329,\n",
       " 'after': 844,\n",
       " 'pretty': 15023,\n",
       " 'full': 8218,\n",
       " 'spectrum': 17943,\n",
       " 'limited': 11207,\n",
       " 'home': 9448,\n",
       " 'baking': 1879,\n",
       " 'half': 9026,\n",
       " 'ounce': 13673,\n",
       " 'jars': 10363,\n",
       " 'inwilton': 10187,\n",
       " '601': 426,\n",
       " '5580': 403,\n",
       " 'dye': 6436,\n",
       " 'eggs': 6581,\n",
       " 'expensive': 7066,\n",
       " 'ones': 13455,\n",
       " 'glittery': 8525,\n",
       " 'gift': 8460,\n",
       " 'boxes': 2657,\n",
       " 'often': 13336,\n",
       " 'chunky': 4060,\n",
       " 'bits': 2334,\n",
       " 'chili': 3859,\n",
       " 'make': 11605,\n",
       " 'chinese': 3879,\n",
       " 'stir': 18327,\n",
       " 'frys': 8189,\n",
       " 'my': 12667,\n",
       " 'favorite': 7345,\n",
       " 'nearby': 12796,\n",
       " 'asian': 1535,\n",
       " 'mart': 11784,\n",
       " 'factors': 7192,\n",
       " 'thing': 19602,\n",
       " 'personally': 14337,\n",
       " 'powdered': 14858,\n",
       " 'wasabi': 21064,\n",
       " 'normal': 13007,\n",
       " 'japanese': 10355,\n",
       " 'dish': 6017,\n",
       " 'nori': 13005,\n",
       " 'chazuke': 3703,\n",
       " 'cheaper': 3708,\n",
       " 'tazo': 19147,\n",
       " 'know': 10740,\n",
       " 'people': 14237,\n",
       " 'chai': 3634,\n",
       " 'spiced': 17965,\n",
       " 'black': 2353,\n",
       " 'wild': 21340,\n",
       " 'sweet': 18818,\n",
       " 'orange': 13537,\n",
       " 'altogether': 1073,\n",
       " 'lotus': 11415,\n",
       " 'smelled': 17564,\n",
       " 'great': 8810,\n",
       " 'herbal': 9311,\n",
       " 'infusion': 9968,\n",
       " 'wonderful': 21479,\n",
       " 'enjoy': 6766,\n",
       " 'orangey': 13543,\n",
       " 'teas': 19210,\n",
       " 'lively': 11299,\n",
       " 'blend': 2392,\n",
       " 'citrus': 4115,\n",
       " 'herbs': 9315,\n",
       " 'multi': 12594,\n",
       " 'layered': 10958,\n",
       " 'exotic': 7047,\n",
       " 'hints': 9388,\n",
       " 'profile': 15131,\n",
       " 'gets': 8430,\n",
       " 'hate': 9149,\n",
       " 'yucky': 21700,\n",
       " 'flowery': 7799,\n",
       " 'two': 20285,\n",
       " 'filterbags': 7520,\n",
       " 'blossom': 2460,\n",
       " 'honey': 9471,\n",
       " 'hot': 9535,\n",
       " 'also': 1060,\n",
       " 'quite': 15475,\n",
       " 'intriguing': 10157,\n",
       " 'first': 7585,\n",
       " 'tasted': 19091,\n",
       " 'non': 12969,\n",
       " 'caffeinated': 3105,\n",
       " 'drink': 6290,\n",
       " 'husband': 9632,\n",
       " 'lovesbigelow': 11434,\n",
       " 'constant': 4695,\n",
       " 'bag': 1827,\n",
       " 'works': 21517,\n",
       " 'flavored': 7675,\n",
       " 'notes': 13037,\n",
       " 'light': 11144,\n",
       " 'terms': 19308,\n",
       " 'strength': 18423,\n",
       " 'reviewer': 16105,\n",
       " 'website': 21152,\n",
       " 'recommended': 15721,\n",
       " 'steeping': 18255,\n",
       " 'perhaps': 14302,\n",
       " 'next': 12893,\n",
       " 'kamenstein': 10562,\n",
       " 'colored': 4409,\n",
       " 'magnetic': 11572,\n",
       " 'storage': 18362,\n",
       " 'overall': 13748,\n",
       " 'happy': 9092,\n",
       " 'chewing': 3819,\n",
       " 'for': 7894,\n",
       " 'some': 17785,\n",
       " 'gum': 8955,\n",
       " 'stale': 18152,\n",
       " 'maybe': 11868,\n",
       " 'just': 10531,\n",
       " 'chew': 3810,\n",
       " 'too': 19904,\n",
       " 'lol': 11345,\n",
       " 'not': 13026,\n",
       " 'bad': 1819,\n",
       " 'though': 19659,\n",
       " 'mint': 12239,\n",
       " 'smooth': 17590,\n",
       " 'oflifesavers': 13305,\n",
       " 'hard': 9099,\n",
       " 'free': 8042,\n",
       " 'peppermint': 14260,\n",
       " 'fool': 7883,\n",
       " 'package': 13850,\n",
       " 'art': 1486,\n",
       " 'work': 21503,\n",
       " 'lasts': 10918,\n",
       " '10': 29,\n",
       " '15': 92,\n",
       " 'minutes': 12256,\n",
       " 'other': 13665,\n",
       " 'becomes': 2095,\n",
       " 'available': 1693,\n",
       " 'anywhere': 1316,\n",
       " 'tree': 20086,\n",
       " 'ordered': 13559,\n",
       " 'badly': 1825,\n",
       " 'golden': 8617,\n",
       " 'gate': 8341,\n",
       " 'ficus': 7468,\n",
       " 'indoor': 9910,\n",
       " 'bonsai': 2556,\n",
       " 'treei': 20087,\n",
       " 'satisfied': 16672,\n",
       " 'reviews': 16112,\n",
       " 'about': 592,\n",
       " 'shipping': 17196,\n",
       " 'arrival': 1473,\n",
       " 'being': 2140,\n",
       " 'case': 3476,\n",
       " 'mine': 12210,\n",
       " 'arrived': 1475,\n",
       " 'an': 1154,\n",
       " 'excellent': 7007,\n",
       " 'starter': 18203,\n",
       " 'novalist': 13061,\n",
       " 'to': 19806,\n",
       " 'pro': 15084,\n",
       " 'update': 20563,\n",
       " 'present': 14985,\n",
       " 'garner': 8327,\n",
       " 'positive': 14774,\n",
       " 'feedback': 7383,\n",
       " 'condition': 4610,\n",
       " 'incredible': 9863,\n",
       " 'almond': 1027,\n",
       " 'little': 11290,\n",
       " 'toothpick': 19917,\n",
       " 'drop': 6337,\n",
       " 'naga': 12711,\n",
       " 'jolokia': 10448,\n",
       " 'sauces': 16702,\n",
       " 'simply': 17345,\n",
       " 'pure': 15349,\n",
       " 'spice': 17961,\n",
       " 'level': 11088,\n",
       " 'similar': 17332,\n",
       " 'large': 10901,\n",
       " 'amount': 1138,\n",
       " 'very': 20824,\n",
       " 'pepper': 14242,\n",
       " 'tangy': 19037,\n",
       " 'hit': 9399,\n",
       " 'complements': 4524,\n",
       " 'ghost': 8456,\n",
       " 'based': 1999,\n",
       " 'answer': 1270,\n",
       " 'smokey': 17582,\n",
       " 'heat': 9249,\n",
       " 'decided': 5545,\n",
       " 'delicious': 5639,\n",
       " 'real': 15648,\n",
       " 'bargain': 1949,\n",
       " 'love': 11424,\n",
       " 'tiny': 19779,\n",
       " 'plenty': 14601,\n",
       " 'ounces': 13681,\n",
       " 'state': 18213,\n",
       " 'almost': 1039,\n",
       " 'fruity': 8178,\n",
       " 'remember': 15905,\n",
       " 'correctly': 4892,\n",
       " 'so': 17681,\n",
       " 'stars': 18189,\n",
       " 'think': 19608,\n",
       " 'goes': 8607,\n",
       " 'generic': 8388,\n",
       " 'bhut': 2252,\n",
       " 'sort': 17836,\n",
       " 'smoky': 17587,\n",
       " 'tomato': 19874,\n",
       " 'base': 1997,\n",
       " 'new': 12875,\n",
       " 'mexico': 12075,\n",
       " 'university': 20465,\n",
       " 'chile': 3857,\n",
       " 'institute': 10075,\n",
       " 'seen': 16953,\n",
       " 'habanero': 8994,\n",
       " 'saucemade': 16695,\n",
       " 'costa': 4899,\n",
       " 'rica': 16152,\n",
       " 'gourmet': 8680,\n",
       " 'products': 15121,\n",
       " 'always': 1082,\n",
       " 'taste': 19084,\n",
       " 'increasingly': 9862,\n",
       " 'gritty': 8870,\n",
       " 'or': 13532,\n",
       " 'dusty': 6422,\n",
       " 'experience': 7067,\n",
       " 'peppers': 14266,\n",
       " 'stuffed': 18475,\n",
       " 'baked': 1870,\n",
       " 'potatoes': 14810,\n",
       " 'unimpressive': 20451,\n",
       " 'andlacking': 1193,\n",
       " 'four': 7975,\n",
       " 'us': 20601,\n",
       " 'mas': 11797,\n",
       " 'dinner': 5927,\n",
       " 'today': 19833,\n",
       " 'maple': 11711,\n",
       " 'stuff': 18474,\n",
       " 'sugarfree': 18606,\n",
       " 'others': 13667,\n",
       " 'either': 6604,\n",
       " 'sickeningly': 17286,\n",
       " 'parts': 14048,\n",
       " 'vermont': 20805,\n",
       " 'original': 13606,\n",
       " 'nirvana': 12946,\n",
       " 'terrible': 19311,\n",
       " 'side': 17289,\n",
       " 'effects': 6559,\n",
       " 'maltitol': 11642,\n",
       " 'kicked': 10649,\n",
       " 'discomfort': 5985,\n",
       " 'unlike': 20470,\n",
       " 'anything': 1311,\n",
       " 'popcorn': 14707,\n",
       " 'local': 11322,\n",
       " 'market': 11755,\n",
       " 'treat': 20078,\n",
       " 'brands': 2705,\n",
       " 'breakfast': 2741,\n",
       " 'plate': 14568,\n",
       " 'beignets': 2138,\n",
       " 'dusted': 6420,\n",
       " 'raddichio': 15495,\n",
       " 'cafe': 3094,\n",
       " 'au': 1658,\n",
       " 'lait': 10868,\n",
       " 'strong': 18452,\n",
       " 'chicory': 3848,\n",
       " 'cut': 5340,\n",
       " 'du': 6365,\n",
       " 'monde': 12411,\n",
       " 'stay': 18233,\n",
       " 'orleans': 13621,\n",
       " 'stella': 18261,\n",
       " 'oro': 13624,\n",
       " 'treats': 20085,\n",
       " 'french': 8076,\n",
       " 'brand': 2698,\n",
       " 'sole': 17758,\n",
       " 'stores': 18370,\n",
       " 'cheesecake': 3752,\n",
       " 'mousse': 12517,\n",
       " 'sans': 16636,\n",
       " 'sucre': 18561,\n",
       " 'since': 17351,\n",
       " 'gastric': 8337,\n",
       " 'bypass': 3057,\n",
       " 'surgery': 18762,\n",
       " 'combine': 4436,\n",
       " 'alcohol': 963,\n",
       " 'mix': 12295,\n",
       " 'rue': 16433,\n",
       " 'nestles': 12861,\n",
       " 'mexican': 12073,\n",
       " 'mass': 11815,\n",
       " 'produced': 15111,\n",
       " 'american': 1117,\n",
       " 'el': 6608,\n",
       " 'yucateco': 21698,\n",
       " 'potent': 14814,\n",
       " 'extra': 7121,\n",
       " 'bit': 2326,\n",
       " 'hotter': 9546,\n",
       " 'yet': 21642,\n",
       " 'true': 20153,\n",
       " 'three': 19671,\n",
       " 'offered': 13272,\n",
       " 'straight': 18388,\n",
       " 'forward': 7957,\n",
       " 'habaneros': 8995,\n",
       " 'numerous': 13099,\n",
       " 'types': 20291,\n",
       " 'loaded': 11312,\n",
       " 'distilled': 6069,\n",
       " 'vinegar': 20869,\n",
       " 'nevada': 12872,\n",
       " 'las': 10905,\n",
       " 'vegas': 20738,\n",
       " 'released': 15878,\n",
       " '21': 198,\n",
       " 'ppm': 14887,\n",
       " 'lead': 10975,\n",
       " 'along': 1047,\n",
       " 'study': 18472,\n",
       " 'concludes': 4595,\n",
       " 'simple': 17339,\n",
       " 'adjustments': 771,\n",
       " 'england': 6756,\n",
       " 'winter': 21389,\n",
       " 'brutal': 2877,\n",
       " 'additional': 741,\n",
       " 'spices': 17967,\n",
       " 'play': 14578,\n",
       " 'every': 6968,\n",
       " 'square': 18094,\n",
       " 'millimeter': 12182,\n",
       " 'delicate': 5634,\n",
       " 'insides': 10047,\n",
       " 'garlicky': 8326,\n",
       " 'veggie': 20746,\n",
       " 'dishes': 6018,\n",
       " 'foods': 7873,\n",
       " 'chipotle': 3884,\n",
       " 'tested': 19321,\n",
       " 'when': 21258,\n",
       " '00for': 6,\n",
       " 'bucks': 2894,\n",
       " 'you': 21672,\n",
       " 'should': 17249,\n",
       " 'low': 11437,\n",
       " 'combined': 4437,\n",
       " 'charges': 3687,\n",
       " 'jumbo': 10517,\n",
       " '20': 166,\n",
       " '40': 335,\n",
       " 'oz': 13819,\n",
       " 'ketchup': 10624,\n",
       " 'squirt': 18114,\n",
       " 'bottles': 2613,\n",
       " 'heartbroken': 9238,\n",
       " 'its': 10299,\n",
       " 'decently': 5539,\n",
       " 'chipolte': 3882,\n",
       " 'without': 21439,\n",
       " 'tabasco': 18948,\n",
       " 'minor': 12236,\n",
       " 'flaws': 7727,\n",
       " 'tapatio': 19050,\n",
       " 'salsa': 16553,\n",
       " 'picante': 14418,\n",
       " 'set': 17079,\n",
       " 'tobasco': 19820,\n",
       " 'amazing': 1093,\n",
       " 'lime': 11199,\n",
       " 'thatperks': 19384,\n",
       " 'sprinkled': 18069,\n",
       " 'fruit': 8163,\n",
       " 'cook': 4791,\n",
       " 'maseca': 11805,\n",
       " 'flour': 7768,\n",
       " 'flat': 7647,\n",
       " 'cast': 3500,\n",
       " 'iron': 10201,\n",
       " 'skillet': 17423,\n",
       " 'sides': 17293,\n",
       " 'pan': 13940,\n",
       " 'jell': 10384,\n",
       " 'school': 16804,\n",
       " 'fund': 8232,\n",
       " 'raiser': 15519,\n",
       " 'warm': 21044,\n",
       " 'spring': 18064,\n",
       " 'day': 5465,\n",
       " 'san': 16615,\n",
       " 'francisco': 8005,\n",
       " 'tin': 19762,\n",
       " 'street': 18422,\n",
       " 'fulfilled': 8216,\n",
       " 'altura': 1077,\n",
       " 'peruvian': 14344,\n",
       " 'dark': 5428,\n",
       " 'blind': 2428,\n",
       " 'test': 19320,\n",
       " 'asfolgers': 1528,\n",
       " 'classic': 4150,\n",
       " 'roast': 16250,\n",
       " '3m': 323,\n",
       " 'filtrete': 7535,\n",
       " 'stationburr': 18222,\n",
       " 'grindercuisinart': 8853,\n",
       " 'dbm': 5480,\n",
       " 'supreme': 18746,\n",
       " 'grind': 8851,\n",
       " 'automatic': 1685,\n",
       " 'burr': 2981,\n",
       " 'mill': 12169,\n",
       " 'makerbunn': 11609,\n",
       " 'stx': 18486,\n",
       " 'specialty': 17926,\n",
       " 'brewer': 2771,\n",
       " 'carafewhat': 3330,\n",
       " 'starbucks': 18175,\n",
       " 'medium': 11958,\n",
       " 'highly': 9362,\n",
       " 'consistent': 4689,\n",
       " 'size': 17407,\n",
       " 'tertiary': 19318,\n",
       " 'excellentcons': 7009,\n",
       " 'dollar': 6144,\n",
       " 'range': 15557,\n",
       " 'wondered': 21478,\n",
       " 'superlative': 18715,\n",
       " 'created': 5074,\n",
       " 'expectations': 7057,\n",
       " 'lifelessi': 11133,\n",
       " 'havent': 9165,\n",
       " 'kona': 10763,\n",
       " 'prefer': 14932,\n",
       " 'lavazza': 10944,\n",
       " 'super': 18704,\n",
       " 'crema': 5085,\n",
       " 'beans': 2058,\n",
       " 'inferior': 9938,\n",
       " 'fine': 7549,\n",
       " 'weekend': 21170,\n",
       " 'leave': 11011,\n",
       " 'difference': 5877,\n",
       " 'vanilla': 20688,\n",
       " 'gluten': 8556,\n",
       " 'certified': 3619,\n",
       " 'holic': 9434,\n",
       " 'jar': 10357,\n",
       " 'nielsen': 12925,\n",
       " 'massey': 11821,\n",
       " 'exact': 6992,\n",
       " 'ingredients': 9983,\n",
       " 'beats': 2076,\n",
       " 'madagascar': 11545,\n",
       " 'bourbon': 2642,\n",
       " 'equivalent': 6844,\n",
       " 'specks': 17940,\n",
       " 'cream': 5048,\n",
       " 'far': 7257,\n",
       " 'superior': 18714,\n",
       " 'vegan': 20736,\n",
       " 'coconut': 4309,\n",
       " 'way': 21130,\n",
       " 'traditional': 20022,\n",
       " 'thin': 19601,\n",
       " 'double': 6203,\n",
       " 'fun': 8224,\n",
       " 'attractive': 1651,\n",
       " 'flecks': 7734,\n",
       " 'adds': 753,\n",
       " 'cute': 5341,\n",
       " 'early': 6455,\n",
       " 'pioneers': 14490,\n",
       " 'pregnancy': 14947,\n",
       " 'testing': 19325,\n",
       " 'came': 3212,\n",
       " 'rabbit': 15485,\n",
       " 'became': 2086,\n",
       " 'popular': 14739,\n",
       " 'pacts': 13887,\n",
       " 'blood': 2451,\n",
       " 'long': 11361,\n",
       " 'forgotten': 7917,\n",
       " 'dread': 6267,\n",
       " 'gods': 8605,\n",
       " 'zombie': 21776,\n",
       " '50': 386,\n",
       " 'zombies': 21777,\n",
       " 'any': 1303,\n",
       " 'necromancer': 12811,\n",
       " 'rabbits': 15487,\n",
       " 'okay': 13399,\n",
       " 'was': 21062,\n",
       " 'indeed': 9869,\n",
       " 'thought': 19661,\n",
       " 'meant': 11916,\n",
       " 'pounds': 14836,\n",
       " 'myfresh': 12679,\n",
       " 'rabbitdid': 15486,\n",
       " 'arrive': 1474,\n",
       " 'former': 7929,\n",
       " 'child': 3852,\n",
       " 'star': 18173,\n",
       " 'thumper': 19697,\n",
       " 'meets': 11970,\n",
       " 'tragic': 20026,\n",
       " 'end': 6725,\n",
       " 'mystery': 12696,\n",
       " 'mobbed': 12333,\n",
       " 'press': 15007,\n",
       " 'conference': 4631,\n",
       " 'held': 9279,\n",
       " 'hours': 9553,\n",
       " 'although': 1070,\n",
       " 'spent': 17957,\n",
       " 'several': 17098,\n",
       " 'months': 12444,\n",
       " 'skimmed': 17428,\n",
       " 'sunday': 18681,\n",
       " 'anyway': 1313,\n",
       " 'hairless': 9022,\n",
       " 'easter': 6474,\n",
       " 'party': 14051,\n",
       " 'pinata': 14471,\n",
       " 'never': 12873,\n",
       " 'welpac': 21211,\n",
       " 'dashi': 5446,\n",
       " 'kombu': 10759,\n",
       " 'seaweed': 16905,\n",
       " 'shiro': 17200,\n",
       " 'miso': 12275,\n",
       " 'gmo': 8580,\n",
       " 'msg': 12549,\n",
       " 'added': 729,\n",
       " 'scientific': 16810,\n",
       " 'eaters': 6489,\n",
       " 'prognosis': 15137,\n",
       " 'thyroid': 19706,\n",
       " 'follicular': 7851,\n",
       " 'cancer': 3244,\n",
       " 'however': 9572,\n",
       " 'antioxidant': 1289,\n",
       " 'minerals': 12212,\n",
       " 'human': 9598,\n",
       " 'nutrition': 13135,\n",
       " 'tub': 20201,\n",
       " 'makes': 11615,\n",
       " 'handy': 9071,\n",
       " 'borsari': 2596,\n",
       " 'rose': 16368,\n",
       " 'hip': 9389,\n",
       " 'ive': 10310,\n",
       " 'noticeable': 13043,\n",
       " 'cold': 4369,\n",
       " 'symptoms': 18888,\n",
       " 'related': 15867,\n",
       " 'step': 18267,\n",
       " 'saturated': 16677,\n",
       " 'yellow': 21630,\n",
       " 'steeped': 18253,\n",
       " 'rich': 16168,\n",
       " 'concentrations': 4584,\n",
       " 'bank': 1924,\n",
       " 'sure': 18755,\n",
       " 'someone': 17792,\n",
       " 'alvita': 1080,\n",
       " 'single': 17366,\n",
       " 'ingredient': 9982,\n",
       " 'options': 13528,\n",
       " 'try': 20181,\n",
       " 'analyze': 1160,\n",
       " 'ramekin': 15533,\n",
       " 'lid': 11119,\n",
       " 'cover': 4972,\n",
       " 'presume': 15015,\n",
       " 'chamomile': 3652,\n",
       " 'flowers': 7797,\n",
       " 'poorly': 14703,\n",
       " 'egyptian': 6591,\n",
       " 'year': 21613,\n",
       " 'round': 16397,\n",
       " 'pungent': 15335,\n",
       " 'smell': 17563,\n",
       " 'hates': 9153,\n",
       " 'ginger': 8471,\n",
       " 'health': 9214,\n",
       " 'reasons': 15666,\n",
       " 'medicinals': 11950,\n",
       " 'roasted': 16263,\n",
       " 'dandelion': 5409,\n",
       " 'root': 16353,\n",
       " 'caution': 3526,\n",
       " 'liver': 11301,\n",
       " 'enzymes': 6824,\n",
       " 'boderline': 2501,\n",
       " 'house': 9555,\n",
       " 'benefits': 2174,\n",
       " 'drinking': 6303,\n",
       " 'powerful': 14880,\n",
       " 'behind': 2133,\n",
       " 'recent': 15688,\n",
       " 'fads': 7200,\n",
       " 'rooibus': 16346,\n",
       " 'leaf': 10980,\n",
       " 'looks': 11375,\n",
       " 'birthday': 2303,\n",
       " 'ensemble': 6788,\n",
       " 'insomniac': 10053,\n",
       " 'clockworkwould': 4214,\n",
       " 'recommend': 15716,\n",
       " 'big': 2266,\n",
       " 'zero': 21739,\n",
       " 'bought': 2625,\n",
       " 'unrefined': 20510,\n",
       " 'oil': 13349,\n",
       " 'believe': 2145,\n",
       " 'lie': 11126,\n",
       " 'virgin': 20891,\n",
       " 'applies': 1370,\n",
       " 'raw': 15609,\n",
       " 'less': 11069,\n",
       " 'grade': 8700,\n",
       " 'worked': 21508,\n",
       " 'within': 21425,\n",
       " 'days': 5470,\n",
       " 'breast': 2751,\n",
       " 'support': 18733,\n",
       " 'general': 8378,\n",
       " 'boost': 2567,\n",
       " 'mom': 12404,\n",
       " 'takes': 19000,\n",
       " 'fenugreek': 7405,\n",
       " 'seed': 16925,\n",
       " 'la': 10829,\n",
       " 'leche': 11018,\n",
       " 'league': 10989,\n",
       " 'international': 10127,\n",
       " 'book': 2560,\n",
       " 'indicator': 9891,\n",
       " 'huge': 9588,\n",
       " 'increase': 9859,\n",
       " 'fact': 7188,\n",
       " 'contains': 4732,\n",
       " 'phyto': 14412,\n",
       " 'estrogens': 6923,\n",
       " 'complicates': 4534,\n",
       " 'things': 19605,\n",
       " 'libido': 11104,\n",
       " 'experienced': 7068,\n",
       " '25': 219,\n",
       " 'percent': 14280,\n",
       " 'male': 11629,\n",
       " 'effective': 6556,\n",
       " 'saw': 16740,\n",
       " 'palmetto': 13930,\n",
       " 'worth': 21531,\n",
       " 'trying': 20186,\n",
       " 'hoped': 9500,\n",
       " 'term': 19306,\n",
       " 'wisconsin': 21401,\n",
       " 'suggests': 18644,\n",
       " 'expert': 7078,\n",
       " 'meditators': 11955,\n",
       " 'babies': 1787,\n",
       " 'causes': 3523,\n",
       " 'gas': 8334,\n",
       " 'cost': 4898,\n",
       " 'store': 18365,\n",
       " 'bitter': 2337,\n",
       " 'is': 10221,\n",
       " 'yummy': 21714,\n",
       " 'active': 709,\n",
       " 'cinnamon': 4088,\n",
       " 'type': 20289,\n",
       " 'bones': 2547,\n",
       " 'able': 587,\n",
       " 'lack': 10846,\n",
       " 'gelatin': 8365,\n",
       " 'broth': 2849,\n",
       " 'trial': 20098,\n",
       " 'basis': 2011,\n",
       " 'ethical': 6928,\n",
       " 'supplier': 18729,\n",
       " 'liquid': 11259,\n",
       " 'moved': 12529,\n",
       " 'away': 1719,\n",
       " 'bubble': 2886,\n",
       " 'wrap': 21548,\n",
       " 'ys': 21694,\n",
       " 'butter': 3003,\n",
       " 'sandwich': 16627,\n",
       " 'add': 727,\n",
       " 'bananas': 1910,\n",
       " 'helped': 9287,\n",
       " 'eco': 6519,\n",
       " 'bee': 2100,\n",
       " 'farms': 7274,\n",
       " 'grain': 8717,\n",
       " 'bread': 2724,\n",
       " 'skin': 17431,\n",
       " 'left': 11029,\n",
       " 'sparkling': 17905,\n",
       " 'clean': 4165,\n",
       " 'antibiotic': 1281,\n",
       " 'properties': 15179,\n",
       " 'gold': 8616,\n",
       " 'cocoa': 4302,\n",
       " 'place': 14528,\n",
       " 'broken': 2835,\n",
       " 'glass': 8513,\n",
       " 'why': 21321,\n",
       " 'comes': 4444,\n",
       " 'busted': 2993,\n",
       " 'sticky': 18309,\n",
       " 'mess': 12046,\n",
       " 'junk': 10525,\n",
       " 'reasonable': 15662,\n",
       " 'bragg': 2684,\n",
       " 'apple': 1351,\n",
       " 'cider': 4067,\n",
       " '100': 30,\n",
       " 'run': 16447,\n",
       " 'usda': 20607,\n",
       " 'pumped': 15319,\n",
       " 'layers': 10959,\n",
       " 'sedimentary': 16923,\n",
       " 'rock': 16299,\n",
       " 'called': 3157,\n",
       " 'diatomaceous': 5842,\n",
       " 'earth': 6461,\n",
       " 'eu': 6938,\n",
       " 'imports': 9793,\n",
       " ...}"
      ]
     },
     "execution_count": 34,
     "metadata": {},
     "output_type": "execute_result"
    }
   ],
   "source": [
    "cv.vocabulary_"
   ]
  },
  {
   "cell_type": "code",
   "execution_count": 17,
   "metadata": {},
   "outputs": [
    {
     "data": {
      "text/plain": [
       "11.018176918839586"
      ]
     },
     "execution_count": 17,
     "metadata": {},
     "output_type": "execute_result"
    }
   ],
   "source": [
    "tfidf.idf_[cv.vocabulary_['account']]"
   ]
  },
  {
   "cell_type": "code",
   "execution_count": 19,
   "metadata": {
    "collapsed": true
   },
   "outputs": [],
   "source": [
    "from sklearn.cluster import KMeans"
   ]
  },
  {
   "cell_type": "code",
   "execution_count": 22,
   "metadata": {
    "collapsed": true
   },
   "outputs": [],
   "source": [
    "km = KMeans(n_clusters=5)"
   ]
  },
  {
   "cell_type": "code",
   "execution_count": 23,
   "metadata": {},
   "outputs": [
    {
     "data": {
      "text/plain": [
       "array([2, 2, 3, ..., 2, 0, 2], dtype=int32)"
      ]
     },
     "execution_count": 23,
     "metadata": {},
     "output_type": "execute_result"
    }
   ],
   "source": [
    "km.fit_predict(comments_tfidf)"
   ]
  },
  {
   "cell_type": "code",
   "execution_count": 56,
   "metadata": {},
   "outputs": [
    {
     "data": {
      "text/plain": [
       "array([ 3,  3,  8,  0,  8,  0,  8,  5,  3, 13,  9,  3, 11, 14, 14,  9,  3,\n",
       "        9, 12, 13, 13, 13, 11, 12,  5,  5,  3, 10,  3, 14, 12,  0,  1,  1,\n",
       "        0,  1, 11, 11, 14, 14,  3,  1, 11, 11,  3, 11, 14, 10,  3, 10, 14,\n",
       "       14, 14, 12, 12, 10, 14,  3, 12,  3,  8,  8,  8,  3,  3, 10,  3,  5,\n",
       "        5, 10,  3,  3,  3, 10, 13, 13, 13, 10,  9, 11, 11,  6,  6, 13, 13,\n",
       "        9, 10, 13, 13, 13,  9, 13,  9,  5,  5,  5,  5, 12, 11, 14,  3,  3,\n",
       "        3,  3,  9,  3,  3,  3, 12, 12, 11,  3,  3,  3, 11,  3, 11, 11, 10,\n",
       "       10,  1, 13,  1,  1,  1,  1,  1, 12,  3,  3,  5,  5,  6,  6,  9,  4,\n",
       "        4,  4,  4,  4,  1,  9, 12, 10, 12, 12,  8, 12, 10,  3,  9, 11,  8,\n",
       "       12,  3,  3, 12,  4,  4,  4,  3, 12, 12,  3, 14, 14, 14, 14, 10,  7,\n",
       "       12, 12,  3, 10,  4,  4,  3,  4,  4,  4,  3, 11,  3,  3,  3,  3,  5,\n",
       "       12,  5,  3, 12, 11, 12,  3, 10, 10,  3,  3, 11, 10, 10, 11, 10, 10,\n",
       "       10, 10, 10, 10,  3, 10,  7, 11, 11, 12,  8, 11,  3, 13, 13, 13,  3,\n",
       "        3, 13, 13, 13, 13,  1, 11,  8, 14,  3, 12, 12, 12,  8,  0, 12, 12,\n",
       "        8,  3, 12, 12, 11, 11, 11, 11, 11,  8,  8, 11, 12,  3,  3, 12,  8,\n",
       "        3,  3,  1,  3,  3, 10, 12, 11,  0,  3, 10, 12, 10, 10,  3,  5,  3,\n",
       "        3,  3,  3,  3, 12,  3, 14,  3, 12, 12, 11, 11, 11,  3,  1, 12, 10,\n",
       "       10, 10, 11, 10,  3, 10,  3, 11, 10,  3, 10, 10, 14,  3,  8,  0, 10,\n",
       "        3,  3,  3,  8, 11,  3, 11, 11, 14, 11, 12, 14, 12,  8,  3, 12,  3,\n",
       "       10, 10,  3, 14,  8,  0, 11,  8,  6, 11, 11, 10, 11, 11, 10, 11, 11,\n",
       "       10, 11, 11,  3, 13,  3, 11,  7,  1,  1,  3,  3,  1,  1, 12, 12, 12,\n",
       "       12,  7, 10, 12,  5,  7,  7,  7,  7,  7,  7,  7,  7,  3,  7,  7,  6,\n",
       "        6,  6,  6,  5,  5, 14, 14,  6, 11, 11,  3,  3,  3, 11, 11,  3, 12,\n",
       "       12, 10,  8, 11, 11, 10, 11,  7,  3,  7,  3, 11, 12, 12, 12,  3, 11,\n",
       "       12,  3, 10, 10,  7, 11,  6,  6,  6,  6, 14, 14, 14, 14, 14, 10,  3,\n",
       "       12, 10, 10, 11,  3, 11, 11, 11, 11,  3,  3,  7,  7,  7,  7,  7,  7,\n",
       "        7,  7,  7,  7,  2,  3,  3,  3,  3,  3, 14,  3, 10,  1,  2,  2,  1,\n",
       "        7,  1,  3,  2,  1,  1, 10, 12,  3,  2,  2, 10,  2, 14,  2,  2,  1,\n",
       "        1,  1,  3,  3,  3,  1,  1,  1,  1,  1,  1, 12,  3,  3,  3, 10, 14,\n",
       "        3,  3, 10,  7,  7, 10, 10,  7, 10,  8,  0, 10,  8,  0,  8,  0, 10,\n",
       "       12, 10,  3,  3,  3,  3,  3,  8, 10, 12, 14, 14, 14, 14, 10, 10,  1,\n",
       "       10, 10, 11, 11, 10, 10,  3,  3, 10, 10, 12,  3, 12, 11, 10,  3,  3,\n",
       "       13,  9,  3, 13,  3,  3, 13, 10, 10, 13, 13,  3,  3,  3,  8,  0, 13,\n",
       "       10, 10, 10, 10,  3,  3,  3,  3,  3,  3])"
      ]
     },
     "execution_count": 56,
     "metadata": {},
     "output_type": "execute_result"
    }
   ],
   "source": [
    "km.labels_"
   ]
  },
  {
   "cell_type": "code",
   "execution_count": 86,
   "metadata": {},
   "outputs": [
    {
     "data": {
      "text/plain": [
       "<bound method KMeans.score of KMeans(algorithm='auto', copy_x=True, init='k-means++', max_iter=300,\n",
       "    n_clusters=8, n_init=10, n_jobs=1, precompute_distances='auto',\n",
       "    random_state=None, tol=0.0001, verbose=0)>"
      ]
     },
     "execution_count": 86,
     "metadata": {},
     "output_type": "execute_result"
    }
   ],
   "source": [
    "km.score"
   ]
  },
  {
   "cell_type": "code",
   "execution_count": 25,
   "metadata": {},
   "outputs": [
    {
     "data": {
      "text/plain": [
       "(148750, 148750, 148750)"
      ]
     },
     "execution_count": 25,
     "metadata": {},
     "output_type": "execute_result"
    }
   ],
   "source": [
    "len(comments['Chat Aspects']), len(comments_final), len(pd.Series(km.labels_))"
   ]
  },
  {
   "cell_type": "code",
   "execution_count": 24,
   "metadata": {
    "collapsed": true
   },
   "outputs": [],
   "source": [
    "res = pd.concat([comments['Chat Aspects'], comments_final, pd.Series(km.labels_)], axis = 1)\n",
    "res.to_csv(\"data/reviews_Grocery_and_Gourmet_Food_5/5ncluster2.csv\")\n",
    "#writer = pd.ExcelWriter('.xlsx')\n",
    "#res.to_excel(writer,'Sheet1')\n",
    "#writer.save()"
   ]
  },
  {
   "cell_type": "code",
   "execution_count": 16,
   "metadata": {
    "collapsed": true
   },
   "outputs": [],
   "source": [
    "from nltk.tokenize import sent_tokenize, word_tokenize"
   ]
  },
  {
   "cell_type": "code",
   "execution_count": 24,
   "metadata": {
    "collapsed": true
   },
   "outputs": [],
   "source": [
    "#word_tokenize('Asking to ask about what he asked')"
   ]
  },
  {
   "cell_type": "code",
   "execution_count": 50,
   "metadata": {},
   "outputs": [
    {
     "ename": "NameError",
     "evalue": "name 'km' is not defined",
     "output_type": "error",
     "traceback": [
      "\u001b[0;31m---------------------------------------------------------------------------\u001b[0m",
      "\u001b[0;31mNameError\u001b[0m                                 Traceback (most recent call last)",
      "\u001b[0;32m<ipython-input-50-589dee4383eb>\u001b[0m in \u001b[0;36m<module>\u001b[0;34m()\u001b[0m\n\u001b[0;32m----> 1\u001b[0;31m \u001b[0mkm\u001b[0m\u001b[0;34m.\u001b[0m\u001b[0mscore\u001b[0m\u001b[0;34m(\u001b[0m\u001b[0mcomments_tfidf\u001b[0m\u001b[0;34m)\u001b[0m\u001b[0;34m\u001b[0m\u001b[0m\n\u001b[0m",
      "\u001b[0;31mNameError\u001b[0m: name 'km' is not defined"
     ]
    }
   ],
   "source": [
    "km.score(comments_tfidf)"
   ]
  },
  {
   "cell_type": "code",
   "execution_count": 20,
   "metadata": {},
   "outputs": [],
   "source": [
    "k_list = np.arange(1, 30)\n",
    "score_list = [KMeans(n_clusters=i).fit(comments_tfidf).score(comments_tfidf) for i in np.arange(1,30)]"
   ]
  },
  {
   "cell_type": "code",
   "execution_count": 43,
   "metadata": {},
   "outputs": [
    {
     "ename": "ValueError",
     "evalue": "x and y must have same first dimension, but have shapes (29,) and (8,)",
     "output_type": "error",
     "traceback": [
      "\u001b[0;31m---------------------------------------------------------------------------\u001b[0m",
      "\u001b[0;31mValueError\u001b[0m                                Traceback (most recent call last)",
      "\u001b[0;32m<ipython-input-43-334e0cda1cc0>\u001b[0m in \u001b[0;36m<module>\u001b[0;34m()\u001b[0m\n\u001b[1;32m      1\u001b[0m \u001b[0;31m#Elbow\u001b[0m\u001b[0;34m\u001b[0m\u001b[0;34m\u001b[0m\u001b[0m\n\u001b[0;32m----> 2\u001b[0;31m \u001b[0mplt\u001b[0m\u001b[0;34m.\u001b[0m\u001b[0mplot\u001b[0m\u001b[0;34m(\u001b[0m\u001b[0mk_list\u001b[0m\u001b[0;34m,\u001b[0m \u001b[0;34m[\u001b[0m\u001b[0;36m89184.63276157087\u001b[0m\u001b[0;34m,\u001b[0m \u001b[0;36m88761.0356569304\u001b[0m\u001b[0;34m,\u001b[0m \u001b[0;36m88179.01512385489\u001b[0m\u001b[0;34m,\u001b[0m \u001b[0;36m87800.89757318857\u001b[0m\u001b[0;34m,\u001b[0m \u001b[0;36m87468.82142323242\u001b[0m\u001b[0;34m,\u001b[0m \u001b[0;36m87223.67275584262\u001b[0m\u001b[0;34m,\u001b[0m \u001b[0;36m86974.23196147353\u001b[0m\u001b[0;34m,\u001b[0m \u001b[0;36m86775.06905827437\u001b[0m\u001b[0;34m]\u001b[0m\u001b[0;34m)\u001b[0m  \u001b[0;31m# No elbow :(\u001b[0m\u001b[0;34m\u001b[0m\u001b[0m\n\u001b[0m",
      "\u001b[0;32m/app/local/anaconda3/lib/python3.6/site-packages/matplotlib/pyplot.py\u001b[0m in \u001b[0;36mplot\u001b[0;34m(*args, **kwargs)\u001b[0m\n\u001b[1;32m   3315\u001b[0m                       mplDeprecation)\n\u001b[1;32m   3316\u001b[0m     \u001b[0;32mtry\u001b[0m\u001b[0;34m:\u001b[0m\u001b[0;34m\u001b[0m\u001b[0m\n\u001b[0;32m-> 3317\u001b[0;31m         \u001b[0mret\u001b[0m \u001b[0;34m=\u001b[0m \u001b[0max\u001b[0m\u001b[0;34m.\u001b[0m\u001b[0mplot\u001b[0m\u001b[0;34m(\u001b[0m\u001b[0;34m*\u001b[0m\u001b[0margs\u001b[0m\u001b[0;34m,\u001b[0m \u001b[0;34m**\u001b[0m\u001b[0mkwargs\u001b[0m\u001b[0;34m)\u001b[0m\u001b[0;34m\u001b[0m\u001b[0m\n\u001b[0m\u001b[1;32m   3318\u001b[0m     \u001b[0;32mfinally\u001b[0m\u001b[0;34m:\u001b[0m\u001b[0;34m\u001b[0m\u001b[0m\n\u001b[1;32m   3319\u001b[0m         \u001b[0max\u001b[0m\u001b[0;34m.\u001b[0m\u001b[0m_hold\u001b[0m \u001b[0;34m=\u001b[0m \u001b[0mwashold\u001b[0m\u001b[0;34m\u001b[0m\u001b[0m\n",
      "\u001b[0;32m/app/local/anaconda3/lib/python3.6/site-packages/matplotlib/__init__.py\u001b[0m in \u001b[0;36minner\u001b[0;34m(ax, *args, **kwargs)\u001b[0m\n\u001b[1;32m   1896\u001b[0m                     warnings.warn(msg % (label_namer, func.__name__),\n\u001b[1;32m   1897\u001b[0m                                   RuntimeWarning, stacklevel=2)\n\u001b[0;32m-> 1898\u001b[0;31m             \u001b[0;32mreturn\u001b[0m \u001b[0mfunc\u001b[0m\u001b[0;34m(\u001b[0m\u001b[0max\u001b[0m\u001b[0;34m,\u001b[0m \u001b[0;34m*\u001b[0m\u001b[0margs\u001b[0m\u001b[0;34m,\u001b[0m \u001b[0;34m**\u001b[0m\u001b[0mkwargs\u001b[0m\u001b[0;34m)\u001b[0m\u001b[0;34m\u001b[0m\u001b[0m\n\u001b[0m\u001b[1;32m   1899\u001b[0m         \u001b[0mpre_doc\u001b[0m \u001b[0;34m=\u001b[0m \u001b[0minner\u001b[0m\u001b[0;34m.\u001b[0m\u001b[0m__doc__\u001b[0m\u001b[0;34m\u001b[0m\u001b[0m\n\u001b[1;32m   1900\u001b[0m         \u001b[0;32mif\u001b[0m \u001b[0mpre_doc\u001b[0m \u001b[0;32mis\u001b[0m \u001b[0;32mNone\u001b[0m\u001b[0;34m:\u001b[0m\u001b[0;34m\u001b[0m\u001b[0m\n",
      "\u001b[0;32m/app/local/anaconda3/lib/python3.6/site-packages/matplotlib/axes/_axes.py\u001b[0m in \u001b[0;36mplot\u001b[0;34m(self, *args, **kwargs)\u001b[0m\n\u001b[1;32m   1404\u001b[0m         \u001b[0mkwargs\u001b[0m \u001b[0;34m=\u001b[0m \u001b[0mcbook\u001b[0m\u001b[0;34m.\u001b[0m\u001b[0mnormalize_kwargs\u001b[0m\u001b[0;34m(\u001b[0m\u001b[0mkwargs\u001b[0m\u001b[0;34m,\u001b[0m \u001b[0m_alias_map\u001b[0m\u001b[0;34m)\u001b[0m\u001b[0;34m\u001b[0m\u001b[0m\n\u001b[1;32m   1405\u001b[0m \u001b[0;34m\u001b[0m\u001b[0m\n\u001b[0;32m-> 1406\u001b[0;31m         \u001b[0;32mfor\u001b[0m \u001b[0mline\u001b[0m \u001b[0;32min\u001b[0m \u001b[0mself\u001b[0m\u001b[0;34m.\u001b[0m\u001b[0m_get_lines\u001b[0m\u001b[0;34m(\u001b[0m\u001b[0;34m*\u001b[0m\u001b[0margs\u001b[0m\u001b[0;34m,\u001b[0m \u001b[0;34m**\u001b[0m\u001b[0mkwargs\u001b[0m\u001b[0;34m)\u001b[0m\u001b[0;34m:\u001b[0m\u001b[0;34m\u001b[0m\u001b[0m\n\u001b[0m\u001b[1;32m   1407\u001b[0m             \u001b[0mself\u001b[0m\u001b[0;34m.\u001b[0m\u001b[0madd_line\u001b[0m\u001b[0;34m(\u001b[0m\u001b[0mline\u001b[0m\u001b[0;34m)\u001b[0m\u001b[0;34m\u001b[0m\u001b[0m\n\u001b[1;32m   1408\u001b[0m             \u001b[0mlines\u001b[0m\u001b[0;34m.\u001b[0m\u001b[0mappend\u001b[0m\u001b[0;34m(\u001b[0m\u001b[0mline\u001b[0m\u001b[0;34m)\u001b[0m\u001b[0;34m\u001b[0m\u001b[0m\n",
      "\u001b[0;32m/app/local/anaconda3/lib/python3.6/site-packages/matplotlib/axes/_base.py\u001b[0m in \u001b[0;36m_grab_next_args\u001b[0;34m(self, *args, **kwargs)\u001b[0m\n\u001b[1;32m    405\u001b[0m                 \u001b[0;32mreturn\u001b[0m\u001b[0;34m\u001b[0m\u001b[0m\n\u001b[1;32m    406\u001b[0m             \u001b[0;32mif\u001b[0m \u001b[0mlen\u001b[0m\u001b[0;34m(\u001b[0m\u001b[0mremaining\u001b[0m\u001b[0;34m)\u001b[0m \u001b[0;34m<=\u001b[0m \u001b[0;36m3\u001b[0m\u001b[0;34m:\u001b[0m\u001b[0;34m\u001b[0m\u001b[0m\n\u001b[0;32m--> 407\u001b[0;31m                 \u001b[0;32mfor\u001b[0m \u001b[0mseg\u001b[0m \u001b[0;32min\u001b[0m \u001b[0mself\u001b[0m\u001b[0;34m.\u001b[0m\u001b[0m_plot_args\u001b[0m\u001b[0;34m(\u001b[0m\u001b[0mremaining\u001b[0m\u001b[0;34m,\u001b[0m \u001b[0mkwargs\u001b[0m\u001b[0;34m)\u001b[0m\u001b[0;34m:\u001b[0m\u001b[0;34m\u001b[0m\u001b[0m\n\u001b[0m\u001b[1;32m    408\u001b[0m                     \u001b[0;32myield\u001b[0m \u001b[0mseg\u001b[0m\u001b[0;34m\u001b[0m\u001b[0m\n\u001b[1;32m    409\u001b[0m                 \u001b[0;32mreturn\u001b[0m\u001b[0;34m\u001b[0m\u001b[0m\n",
      "\u001b[0;32m/app/local/anaconda3/lib/python3.6/site-packages/matplotlib/axes/_base.py\u001b[0m in \u001b[0;36m_plot_args\u001b[0;34m(self, tup, kwargs)\u001b[0m\n\u001b[1;32m    383\u001b[0m             \u001b[0mx\u001b[0m\u001b[0;34m,\u001b[0m \u001b[0my\u001b[0m \u001b[0;34m=\u001b[0m \u001b[0mindex_of\u001b[0m\u001b[0;34m(\u001b[0m\u001b[0mtup\u001b[0m\u001b[0;34m[\u001b[0m\u001b[0;34m-\u001b[0m\u001b[0;36m1\u001b[0m\u001b[0;34m]\u001b[0m\u001b[0;34m)\u001b[0m\u001b[0;34m\u001b[0m\u001b[0m\n\u001b[1;32m    384\u001b[0m \u001b[0;34m\u001b[0m\u001b[0m\n\u001b[0;32m--> 385\u001b[0;31m         \u001b[0mx\u001b[0m\u001b[0;34m,\u001b[0m \u001b[0my\u001b[0m \u001b[0;34m=\u001b[0m \u001b[0mself\u001b[0m\u001b[0;34m.\u001b[0m\u001b[0m_xy_from_xy\u001b[0m\u001b[0;34m(\u001b[0m\u001b[0mx\u001b[0m\u001b[0;34m,\u001b[0m \u001b[0my\u001b[0m\u001b[0;34m)\u001b[0m\u001b[0;34m\u001b[0m\u001b[0m\n\u001b[0m\u001b[1;32m    386\u001b[0m \u001b[0;34m\u001b[0m\u001b[0m\n\u001b[1;32m    387\u001b[0m         \u001b[0;32mif\u001b[0m \u001b[0mself\u001b[0m\u001b[0;34m.\u001b[0m\u001b[0mcommand\u001b[0m \u001b[0;34m==\u001b[0m \u001b[0;34m'plot'\u001b[0m\u001b[0;34m:\u001b[0m\u001b[0;34m\u001b[0m\u001b[0m\n",
      "\u001b[0;32m/app/local/anaconda3/lib/python3.6/site-packages/matplotlib/axes/_base.py\u001b[0m in \u001b[0;36m_xy_from_xy\u001b[0;34m(self, x, y)\u001b[0m\n\u001b[1;32m    242\u001b[0m         \u001b[0;32mif\u001b[0m \u001b[0mx\u001b[0m\u001b[0;34m.\u001b[0m\u001b[0mshape\u001b[0m\u001b[0;34m[\u001b[0m\u001b[0;36m0\u001b[0m\u001b[0;34m]\u001b[0m \u001b[0;34m!=\u001b[0m \u001b[0my\u001b[0m\u001b[0;34m.\u001b[0m\u001b[0mshape\u001b[0m\u001b[0;34m[\u001b[0m\u001b[0;36m0\u001b[0m\u001b[0;34m]\u001b[0m\u001b[0;34m:\u001b[0m\u001b[0;34m\u001b[0m\u001b[0m\n\u001b[1;32m    243\u001b[0m             raise ValueError(\"x and y must have same first dimension, but \"\n\u001b[0;32m--> 244\u001b[0;31m                              \"have shapes {} and {}\".format(x.shape, y.shape))\n\u001b[0m\u001b[1;32m    245\u001b[0m         \u001b[0;32mif\u001b[0m \u001b[0mx\u001b[0m\u001b[0;34m.\u001b[0m\u001b[0mndim\u001b[0m \u001b[0;34m>\u001b[0m \u001b[0;36m2\u001b[0m \u001b[0;32mor\u001b[0m \u001b[0my\u001b[0m\u001b[0;34m.\u001b[0m\u001b[0mndim\u001b[0m \u001b[0;34m>\u001b[0m \u001b[0;36m2\u001b[0m\u001b[0;34m:\u001b[0m\u001b[0;34m\u001b[0m\u001b[0m\n\u001b[1;32m    246\u001b[0m             raise ValueError(\"x and y can be no greater than 2-D, but have \"\n",
      "\u001b[0;31mValueError\u001b[0m: x and y must have same first dimension, but have shapes (29,) and (8,)"
     ]
    },
    {
     "name": "stderr",
     "output_type": "stream",
     "text": [
      "/app/local/anaconda3/lib/python3.6/site-packages/matplotlib/font_manager.py:1297: UserWarning: findfont: Font family ['sans-serif'] not found. Falling back to DejaVu Sans\n",
      "  (prop.get_family(), self.defaultFamily[fontext]))\n"
     ]
    },
    {
     "data": {
      "image/png": "[encoded data removed]",
      "text/plain": [
       "<matplotlib.figure.Figure at 0x7fc37c3e4320>"
      ]
     },
     "metadata": {},
     "output_type": "display_data"
    }
   ],
   "source": [
    "#Elbow\n",
    "plt.plot(k_list, [89184.63276157087, 88761.0356569304, 88179.01512385489, 87800.89757318857, 87468.82142323242, 87223.67275584262, 86974.23196147353, 86775.06905827437])  # No elbow :("
   ]
  },
  {
   "cell_type": "code",
   "execution_count": 195,
   "metadata": {},
   "outputs": [
    {
     "ename": "TypeError",
     "evalue": "score() missing 1 required positional argument: 'X'",
     "output_type": "error",
     "traceback": [
      "\u001b[1;31m---------------------------------------------------------------------------\u001b[0m",
      "\u001b[1;31mTypeError\u001b[0m                                 Traceback (most recent call last)",
      "\u001b[1;32m<ipython-input-195-604bfcaf142c>\u001b[0m in \u001b[0;36m<module>\u001b[1;34m()\u001b[0m\n\u001b[1;32m----> 1\u001b[1;33m \u001b[0mkm\u001b[0m\u001b[1;33m.\u001b[0m\u001b[0mscore\u001b[0m\u001b[1;33m(\u001b[0m\u001b[1;33m)\u001b[0m\u001b[1;33m\u001b[0m\u001b[0m\n\u001b[0m",
      "\u001b[1;31mTypeError\u001b[0m: score() missing 1 required positional argument: 'X'"
     ]
    }
   ],
   "source": [
    "km.score()"
   ]
  },
  {
   "cell_type": "markdown",
   "metadata": {},
   "source": [
    "# WCSS"
   ]
  },
  {
   "cell_type": "code",
   "execution_count": 44,
   "metadata": {},
   "outputs": [
    {
     "name": "stdout",
     "output_type": "stream",
     "text": [
      "[89184.63276157087]\n",
      "[89184.63276157087, 88761.0356569304]\n"
     ]
    },
    {
     "ename": "KeyboardInterrupt",
     "evalue": "",
     "output_type": "error",
     "traceback": [
      "\u001b[0;31m---------------------------------------------------------------------------\u001b[0m",
      "\u001b[0;31mKeyboardInterrupt\u001b[0m                         Traceback (most recent call last)",
      "\u001b[0;32m<ipython-input-44-2cef1acef092>\u001b[0m in \u001b[0;36m<module>\u001b[0;34m()\u001b[0m\n\u001b[1;32m      6\u001b[0m \u001b[0;32mfor\u001b[0m \u001b[0mi\u001b[0m \u001b[0;32min\u001b[0m \u001b[0mrange\u001b[0m\u001b[0;34m(\u001b[0m\u001b[0;36m1\u001b[0m\u001b[0;34m,\u001b[0m \u001b[0;36m15\u001b[0m\u001b[0;34m)\u001b[0m\u001b[0;34m:\u001b[0m\u001b[0;34m\u001b[0m\u001b[0m\n\u001b[1;32m      7\u001b[0m     \u001b[0mkmeans\u001b[0m \u001b[0;34m=\u001b[0m \u001b[0mKMeans\u001b[0m\u001b[0;34m(\u001b[0m\u001b[0mn_clusters\u001b[0m \u001b[0;34m=\u001b[0m \u001b[0mi\u001b[0m\u001b[0;34m,\u001b[0m \u001b[0minit\u001b[0m \u001b[0;34m=\u001b[0m \u001b[0;34m'random'\u001b[0m\u001b[0;34m,\u001b[0m \u001b[0mmax_iter\u001b[0m \u001b[0;34m=\u001b[0m \u001b[0;36m300\u001b[0m\u001b[0;34m,\u001b[0m \u001b[0mn_init\u001b[0m \u001b[0;34m=\u001b[0m \u001b[0;36m10\u001b[0m\u001b[0;34m,\u001b[0m \u001b[0mrandom_state\u001b[0m \u001b[0;34m=\u001b[0m \u001b[0;36m2\u001b[0m\u001b[0;34m)\u001b[0m\u001b[0;34m\u001b[0m\u001b[0m\n\u001b[0;32m----> 8\u001b[0;31m     \u001b[0mkmeans\u001b[0m\u001b[0;34m.\u001b[0m\u001b[0mfit\u001b[0m\u001b[0;34m(\u001b[0m\u001b[0mcomments_tfidf\u001b[0m\u001b[0;34m)\u001b[0m\u001b[0;34m\u001b[0m\u001b[0m\n\u001b[0m\u001b[1;32m      9\u001b[0m     \u001b[0mwcss\u001b[0m\u001b[0;34m.\u001b[0m\u001b[0mappend\u001b[0m\u001b[0;34m(\u001b[0m\u001b[0mkmeans\u001b[0m\u001b[0;34m.\u001b[0m\u001b[0minertia_\u001b[0m\u001b[0;34m)\u001b[0m\u001b[0;34m\u001b[0m\u001b[0m\n\u001b[1;32m     10\u001b[0m     \u001b[0mprint\u001b[0m\u001b[0;34m(\u001b[0m\u001b[0mwcss\u001b[0m\u001b[0;34m)\u001b[0m\u001b[0;34m\u001b[0m\u001b[0m\n",
      "\u001b[0;32m/app/local/anaconda3/lib/python3.6/site-packages/sklearn/cluster/k_means_.py\u001b[0m in \u001b[0;36mfit\u001b[0;34m(self, X, y)\u001b[0m\n\u001b[1;32m    887\u001b[0m                 \u001b[0mtol\u001b[0m\u001b[0;34m=\u001b[0m\u001b[0mself\u001b[0m\u001b[0;34m.\u001b[0m\u001b[0mtol\u001b[0m\u001b[0;34m,\u001b[0m \u001b[0mrandom_state\u001b[0m\u001b[0;34m=\u001b[0m\u001b[0mrandom_state\u001b[0m\u001b[0;34m,\u001b[0m \u001b[0mcopy_x\u001b[0m\u001b[0;34m=\u001b[0m\u001b[0mself\u001b[0m\u001b[0;34m.\u001b[0m\u001b[0mcopy_x\u001b[0m\u001b[0;34m,\u001b[0m\u001b[0;34m\u001b[0m\u001b[0m\n\u001b[1;32m    888\u001b[0m                 \u001b[0mn_jobs\u001b[0m\u001b[0;34m=\u001b[0m\u001b[0mself\u001b[0m\u001b[0;34m.\u001b[0m\u001b[0mn_jobs\u001b[0m\u001b[0;34m,\u001b[0m \u001b[0malgorithm\u001b[0m\u001b[0;34m=\u001b[0m\u001b[0mself\u001b[0m\u001b[0;34m.\u001b[0m\u001b[0malgorithm\u001b[0m\u001b[0;34m,\u001b[0m\u001b[0;34m\u001b[0m\u001b[0m\n\u001b[0;32m--> 889\u001b[0;31m                 return_n_iter=True)\n\u001b[0m\u001b[1;32m    890\u001b[0m         \u001b[0;32mreturn\u001b[0m \u001b[0mself\u001b[0m\u001b[0;34m\u001b[0m\u001b[0m\n\u001b[1;32m    891\u001b[0m \u001b[0;34m\u001b[0m\u001b[0m\n",
      "\u001b[0;32m/app/local/anaconda3/lib/python3.6/site-packages/sklearn/cluster/k_means_.py\u001b[0m in \u001b[0;36mk_means\u001b[0;34m(X, n_clusters, init, precompute_distances, n_init, max_iter, verbose, tol, random_state, copy_x, n_jobs, algorithm, return_n_iter)\u001b[0m\n\u001b[1;32m    343\u001b[0m                 \u001b[0mX\u001b[0m\u001b[0;34m,\u001b[0m \u001b[0mn_clusters\u001b[0m\u001b[0;34m,\u001b[0m \u001b[0mmax_iter\u001b[0m\u001b[0;34m=\u001b[0m\u001b[0mmax_iter\u001b[0m\u001b[0;34m,\u001b[0m \u001b[0minit\u001b[0m\u001b[0;34m=\u001b[0m\u001b[0minit\u001b[0m\u001b[0;34m,\u001b[0m \u001b[0mverbose\u001b[0m\u001b[0;34m=\u001b[0m\u001b[0mverbose\u001b[0m\u001b[0;34m,\u001b[0m\u001b[0;34m\u001b[0m\u001b[0m\n\u001b[1;32m    344\u001b[0m                 \u001b[0mprecompute_distances\u001b[0m\u001b[0;34m=\u001b[0m\u001b[0mprecompute_distances\u001b[0m\u001b[0;34m,\u001b[0m \u001b[0mtol\u001b[0m\u001b[0;34m=\u001b[0m\u001b[0mtol\u001b[0m\u001b[0;34m,\u001b[0m\u001b[0;34m\u001b[0m\u001b[0m\n\u001b[0;32m--> 345\u001b[0;31m                 x_squared_norms=x_squared_norms, random_state=random_state)\n\u001b[0m\u001b[1;32m    346\u001b[0m             \u001b[0;31m# determine if these results are the best so far\u001b[0m\u001b[0;34m\u001b[0m\u001b[0;34m\u001b[0m\u001b[0m\n\u001b[1;32m    347\u001b[0m             \u001b[0;32mif\u001b[0m \u001b[0mbest_inertia\u001b[0m \u001b[0;32mis\u001b[0m \u001b[0;32mNone\u001b[0m \u001b[0;32mor\u001b[0m \u001b[0minertia\u001b[0m \u001b[0;34m<\u001b[0m \u001b[0mbest_inertia\u001b[0m\u001b[0;34m:\u001b[0m\u001b[0;34m\u001b[0m\u001b[0m\n",
      "\u001b[0;32m/app/local/anaconda3/lib/python3.6/site-packages/sklearn/cluster/k_means_.py\u001b[0m in \u001b[0;36m_kmeans_single_lloyd\u001b[0;34m(X, n_clusters, max_iter, init, verbose, x_squared_norms, random_state, tol, precompute_distances)\u001b[0m\n\u001b[1;32m    494\u001b[0m         \u001b[0;32mif\u001b[0m \u001b[0msp\u001b[0m\u001b[0;34m.\u001b[0m\u001b[0missparse\u001b[0m\u001b[0;34m(\u001b[0m\u001b[0mX\u001b[0m\u001b[0;34m)\u001b[0m\u001b[0;34m:\u001b[0m\u001b[0;34m\u001b[0m\u001b[0m\n\u001b[1;32m    495\u001b[0m             centers = _k_means._centers_sparse(X, labels, n_clusters,\n\u001b[0;32m--> 496\u001b[0;31m                                                distances)\n\u001b[0m\u001b[1;32m    497\u001b[0m         \u001b[0;32melse\u001b[0m\u001b[0;34m:\u001b[0m\u001b[0;34m\u001b[0m\u001b[0m\n\u001b[1;32m    498\u001b[0m             \u001b[0mcenters\u001b[0m \u001b[0;34m=\u001b[0m \u001b[0m_k_means\u001b[0m\u001b[0;34m.\u001b[0m\u001b[0m_centers_dense\u001b[0m\u001b[0;34m(\u001b[0m\u001b[0mX\u001b[0m\u001b[0;34m,\u001b[0m \u001b[0mlabels\u001b[0m\u001b[0;34m,\u001b[0m \u001b[0mn_clusters\u001b[0m\u001b[0;34m,\u001b[0m \u001b[0mdistances\u001b[0m\u001b[0;34m)\u001b[0m\u001b[0;34m\u001b[0m\u001b[0m\n",
      "\u001b[0;31mKeyboardInterrupt\u001b[0m: "
     ]
    }
   ],
   "source": [
    "import numpy as np\n",
    "import pandas as pd\n",
    "\n",
    "from sklearn.cluster import KMeans\n",
    "wcss = []\n",
    "for i in range(1, 15):\n",
    "    kmeans = KMeans(n_clusters = i, init = 'random', max_iter = 300, n_init = 10, random_state = 2)\n",
    "    kmeans.fit(comments_tfidf)\n",
    "    wcss.append(kmeans.inertia_)\n",
    "    print(wcss)"
   ]
  },
  {
   "cell_type": "code",
   "execution_count": null,
   "metadata": {
    "collapsed": true
   },
   "outputs": [],
   "source": []
  }
 ],
 "metadata": {
  "kernelspec": {
   "display_name": "Python 3",
   "language": "python",
   "name": "python3"
  },
  "language_info": {
   "codemirror_mode": {
    "name": "ipython",
    "version": 3
   },
   "file_extension": ".py",
   "mimetype": "text/x-python",
   "name": "python",
   "nbconvert_exporter": "python",
   "pygments_lexer": "ipython3",
   "version": "3.6.1"
  }
 },
 "nbformat": 4,
 "nbformat_minor": 2
}
