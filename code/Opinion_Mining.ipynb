{
 "cells": [
  {
   "cell_type": "markdown",
   "metadata": {},
   "source": [
    "# Opinion Mining Using POS Tagging and Grammar Association"
   ]
  },
  {
   "cell_type": "markdown",
   "metadata": {},
   "source": [
    "## Imports"
   ]
  },
  {
   "cell_type": "code",
   "execution_count": 1,
   "metadata": {
    "collapsed": true
   },
   "outputs": [],
   "source": [
    "import nltk\n",
    "from xml.dom import minidom"
   ]
  },
  {
   "cell_type": "markdown",
   "metadata": {},
   "source": [
    "## Parse an XML File and extract data"
   ]
  },
  {
   "cell_type": "code",
   "execution_count": 2,
   "metadata": {
    "collapsed": true
   },
   "outputs": [],
   "source": [
    "doc = minidom.parse('review.review')\n",
    "\n",
    "review_data = []\n",
    "\n",
    "reviews = doc.getElementsByTagName(\"review\")\n",
    "for review in reviews:\n",
    "        review_text = review.getElementsByTagName(\"review_text\")[0]\n",
    "        review_data.append(review_text.firstChild.data.replace(\"\\n\",\"\"))\n"
   ]
  },
  {
   "cell_type": "markdown",
   "metadata": {},
   "source": [
    "## Exploratory Analysis"
   ]
  },
  {
   "cell_type": "code",
   "execution_count": 3,
   "metadata": {
    "collapsed": true
   },
   "outputs": [],
   "source": [
    "#review_data = ['i am traveling internationally and wanted to make sure that an international plan is active on my device ending is 9106. All of our chat reps are currently helping other customers you\\'ll be connected as soon as possible. I\\'ll check further and see what if we can still do something about it as well. But are you taking off those charges from when i called to cancel this please. I have been charged these other months too']\n",
    "#review_data = ['Is that only available now or could we do that for the future. The unlimited. How much is the 8gb. That is correct the reason being it is so close to the cost of the 24gb and 16gb that it will make more sense put you on unlimited. I\\'ll check 8gb. For the 8gb plan your bill will be $126.19. I can help you with a free feature to help you avoid overage. Safety mode is already activated on the account and this will help you stay within 8gb. Wait is there a 16gb.']\n",
    "#review_data = ['I checked on your previous bills and I can see that you were getting a $25 off on your smartphone line access. That\\'s the reason why the line access is just at $15. The promo ended and that\\'s the reason why it was not applied to the bill']\n",
    "review_data = ['You can reach a Customer Care Specialist at 1-800-392-0717 to talk to someone about your billing questions.']"
   ]
  },
  {
   "cell_type": "code",
   "execution_count": 4,
   "metadata": {},
   "outputs": [
    {
     "ename": "IndexError",
     "evalue": "list index out of range",
     "output_type": "error",
     "traceback": [
      "\u001b[0;31m---------------------------------------------------------------------------\u001b[0m",
      "\u001b[0;31mIndexError\u001b[0m                                Traceback (most recent call last)",
      "\u001b[0;32m<ipython-input-4-0e5bde66789c>\u001b[0m in \u001b[0;36m<module>\u001b[0;34m()\u001b[0m\n\u001b[0;32m----> 1\u001b[0;31m \u001b[0mreview_data\u001b[0m\u001b[0;34m[\u001b[0m\u001b[0;36m45\u001b[0m\u001b[0;34m]\u001b[0m\u001b[0;34m\u001b[0m\u001b[0m\n\u001b[0m",
      "\u001b[0;31mIndexError\u001b[0m: list index out of range"
     ]
    }
   ],
   "source": [
    "review_data[45]"
   ]
  },
  {
   "cell_type": "markdown",
   "metadata": {},
   "source": [
    "## Download Dependencies"
   ]
  },
  {
   "cell_type": "code",
   "execution_count": 5,
   "metadata": {},
   "outputs": [
    {
     "name": "stdout",
     "output_type": "stream",
     "text": [
      "NLTK Downloader\n",
      "---------------------------------------------------------------------------\n",
      "    d) Download   l) List    u) Update   c) Config   h) Help   q) Quit\n",
      "---------------------------------------------------------------------------\n",
      "Downloader> q\n"
     ]
    },
    {
     "data": {
      "text/plain": [
       "True"
      ]
     },
     "execution_count": 5,
     "metadata": {},
     "output_type": "execute_result"
    }
   ],
   "source": [
    "nltk.download()\n",
    "# Download Averaged Perceptron Tagger in Models\n",
    "# Help on Tagsets in Models"
   ]
  },
  {
   "cell_type": "markdown",
   "metadata": {},
   "source": [
    "## Word Tokenize"
   ]
  },
  {
   "cell_type": "code",
   "execution_count": 23,
   "metadata": {},
   "outputs": [
    {
     "data": {
      "text/plain": [
       "[('And', 'CC'),\n",
       " ('now', 'RB'),\n",
       " ('for', 'IN'),\n",
       " ('something', 'NN'),\n",
       " ('completely', 'RB'),\n",
       " ('different', 'JJ')]"
      ]
     },
     "execution_count": 23,
     "metadata": {},
     "output_type": "execute_result"
    }
   ],
   "source": [
    "text = nltk.word_tokenize(\"And now for something completely different\")\n",
    "#print text\n",
    "nltk.pos_tag(text)"
   ]
  },
  {
   "cell_type": "markdown",
   "metadata": {},
   "source": [
    "<table border=\"2\" width=\"100%\" cellspacing=\"2\">\n",
    "\t<tbody>\n",
    "\t\t<tr>\n",
    "\t\t\t<th>POS Tag</th>\n",
    "\t\t\t<th>Description</th>\n",
    "\t\t\t<th>Example</th>\n",
    "\t\t</tr>\n",
    "\t\t<tr>\n",
    "\t\t\t<td>CC</td>\n",
    "\t\t\t<td>coordinating conjunction</td>\n",
    "\t\t\t<td>and</td>\n",
    "\t\t</tr>\n",
    "\t\t<tr>\n",
    "\t\t\t<td>CD</td>\n",
    "\t\t\t<td>cardinal number</td>\n",
    "\t\t\t<td>1, third</td>\n",
    "\t\t</tr>\n",
    "\t\t<tr>\n",
    "\t\t\t<td>DT</td>\n",
    "\t\t\t<td>determiner</td>\n",
    "\t\t\t<td>the</td>\n",
    "\t\t</tr>\n",
    "\t\t<tr>\n",
    "\t\t\t<td>EX</td>\n",
    "\t\t\t<td>existential there</td>\n",
    "\t\t\t<td>\n",
    "\t\t\t\t<em>there</em> is</td>\n",
    "\t\t</tr>\n",
    "\t\t<tr>\n",
    "\t\t\t<td>FW</td>\n",
    "\t\t\t<td>foreign word</td>\n",
    "\t\t\t<td>d&#8217;hoevre</td>\n",
    "\t\t</tr>\n",
    "        <tr>\n",
    "\t\t\t<td>IN</td>\n",
    "\t\t\t<td>preposition/subordinating conjunction</td>\n",
    "\t\t\t<td>in, of, like</td>\n",
    "\t\t</tr>\n",
    "\t\t<tr>\n",
    "\t\t\t<td>JJ</td>\n",
    "\t\t\t<td>adjective</td>\n",
    "\t\t\t<td>big</td>\n",
    "\t\t</tr>\n",
    "\t\t<tr>\n",
    "\t\t\t<td>JJR</td>\n",
    "\t\t\t<td>adjective, comparative</td>\n",
    "\t\t\t<td>bigger</td>\n",
    "\t\t</tr>\n",
    "\t\t<tr>\n",
    "\t\t\t<td>JJS</td>\n",
    "\t\t\t<td>adjective, superlative</td>\n",
    "\t\t\t<td>biggest</td>\n",
    "\t\t</tr>\n",
    "\t\t<tr>\n",
    "\t\t\t<td>LS</td>\n",
    "\t\t\t<td>list marker</td>\n",
    "\t\t\t<td>1)</td>\n",
    "\t\t</tr>\n",
    "\t\t<tr>\n",
    "\t\t\t<td>MD</td>\n",
    "\t\t\t<td>modal</td>\n",
    "\t\t\t<td>could, will</td>\n",
    "\t\t</tr>\n",
    "        <tr>\n",
    "\t\t\t<td>NN</td>\n",
    "\t\t\t<td>noun, singular or mass</td>\n",
    "\t\t\t<td>door</td>\n",
    "\t\t</tr>\n",
    "\t\t<tr>\n",
    "\t\t\t<td>NNS</td>\n",
    "\t\t\t<td>noun plural</td>\n",
    "\t\t\t<td>doors</td>\n",
    "\t\t</tr>\n",
    "\t\t<tr>\n",
    "\t\t\t<td>NNP</td>\n",
    "\t\t\t<td>proper noun, singular</td>\n",
    "\t\t\t<td>John</td>\n",
    "\t\t</tr>\n",
    "\t\t<tr>\n",
    "\t\t\t<td>NNPS</td>\n",
    "\t\t\t<td>proper noun, plural</td>\n",
    "\t\t\t<td>Vikings</td>\n",
    "\t\t</tr>\n",
    "\t\t<tr>\n",
    "\t\t\t<td>PDT</td>\n",
    "\t\t\t<td>predeterminer</td>\n",
    "\t\t\t<td>\n",
    "\t\t\t\t<em>both</em> the boys</td>\n",
    "\t\t</tr>\n",
    "\t\t<tr>\n",
    "\t\t\t<td>POS</td>\n",
    "\t\t\t<td>possessive ending</td>\n",
    "\t\t\t<td>friend<em>&#8216;s</em>\n",
    "\t\t\t</td>\n",
    "\t\t</tr>\n",
    "\t\t<tr>\n",
    "\t\t\t<td>PRP</td>\n",
    "\t\t\t<td>personal pronoun</td>\n",
    "\t\t\t<td>I, he, it</td>\n",
    "\t\t</tr>\n",
    "\t\t<tr>\n",
    "\t\t\t<td>PRP</td>\n",
    "\t\t\t<td>possessive pronoun</td>\n",
    "\t\t\t<td>my, his</td>\n",
    "\t\t</tr>\n",
    "\t\t<tr>\n",
    "\t\t\t<td>RB</td>\n",
    "\t\t\t<td>adverb</td>\n",
    "\t\t\t<td>however, usually, naturally, here, good</td>\n",
    "\t\t</tr>\n",
    "\t\t<tr>\n",
    "\t\t\t<td>RBR</td>\n",
    "\t\t\t<td>adverb, comparative</td>\n",
    "\t\t\t<td>better</td>\n",
    "\t\t</tr>\n",
    "\t\t<tr>\n",
    "\t\t\t<td>RBS</td>\n",
    "\t\t\t<td>adverb, superlative</td>\n",
    "\t\t\t<td>best</td>\n",
    "\t\t</tr>\n",
    "        <tr>\n",
    "\t\t\t<td>RP</td>\n",
    "\t\t\t<td>particle</td>\n",
    "\t\t\t<td>give <em> up </em>\n",
    "\t\t\t</td>\n",
    "\t\t</tr>\n",
    "\t\t<tr>\n",
    "\t\t\t<td>TO</td>\n",
    "\t\t\t<td>to</td>\n",
    "\t\t\t<td>\n",
    "\t\t\t\t<em>to</em> go, <em>to</em> him</td>\n",
    "\t\t</tr>\n",
    "\t\t<tr>\n",
    "\t\t\t<td>UH</td>\n",
    "\t\t\t<td>interjection</td>\n",
    "\t\t\t<td>uhhuhhuhh</td>\n",
    "\t\t</tr>\n",
    "\t\t<tr>\n",
    "\t\t\t<td>VB</td>\n",
    "\t\t\t<td>verb, base form</td>\n",
    "\t\t\t<td>take</td>\n",
    "\t\t</tr>\n",
    "\t\t<tr>\n",
    "\t\t\t<td>VBD</td>\n",
    "\t\t\t<td>verb, past tense</td>\n",
    "\t\t\t<td>took</td>\n",
    "\t\t</tr>\n",
    "\t\t<tr>\n",
    "\t\t\t<td>VBG</td>\n",
    "\t\t\t<td>verb, gerund/present participle</td>\n",
    "\t\t\t<td>taking</td>\n",
    "\t\t</tr>\n",
    "\t\t<tr>\n",
    "\t\t\t<td>VBN</td>\n",
    "\t\t\t<td>verb, past participle</td>\n",
    "\t\t\t<td>taken</td>\n",
    "\t\t</tr>\n",
    "\t\t<tr>\n",
    "\t\t\t<td>VBP</td>\n",
    "\t\t\t<td>verb, sing. present, non-3d</td>\n",
    "\t\t\t<td>take</td>\n",
    "\t\t</tr>\n",
    "\t\t<tr>\n",
    "\t\t\t<td>VBZ</td>\n",
    "\t\t\t<td>verb, 3rd person sing. present</td>\n",
    "\t\t\t<td>takes</td>\n",
    "\t\t</tr>\n",
    "\t\t<tr>\n",
    "\t\t\t<td>WDT</td>\n",
    "\t\t\t<td>wh-determiner</td>\n",
    "\t\t\t<td>which</td>\n",
    "\t\t</tr>\n",
    "\t\t<tr>\n",
    "\t\t\t<td>WP</td>\n",
    "\t\t\t<td>wh-pronoun</td>\n",
    "\t\t\t<td>who, what</td>\n",
    "\t\t</tr>\n",
    "\t\t<tr>\n",
    "\t\t\t<td>WP</td>\n",
    "\t\t\t<td>possessive wh-pronoun</td>\n",
    "\t\t\t<td>whose</td>\n",
    "\t\t</tr>\n",
    "\t\t<tr>\n",
    "\t\t\t<td>WRB</td>\n",
    "\t\t\t<td>wh-abverb</td>\n",
    "\t\t\t<td>where, when</td>\n",
    "\t\t</tr>\n",
    "\t</tbody>\n",
    "</table>"
   ]
  },
  {
   "cell_type": "markdown",
   "metadata": {},
   "source": [
    "## POS Tagging of  Words"
   ]
  },
  {
   "cell_type": "code",
   "execution_count": 6,
   "metadata": {},
   "outputs": [
    {
     "data": {
      "text/plain": [
       "[('You', 'PRP'),\n",
       " ('can', 'MD'),\n",
       " ('reach', 'VB'),\n",
       " ('a', 'DT'),\n",
       " ('Customer', 'NNP'),\n",
       " ('Care', 'NNP'),\n",
       " ('Specialist', 'NNP'),\n",
       " ('at', 'IN'),\n",
       " ('1-800-392-0717', 'JJ'),\n",
       " ('to', 'TO'),\n",
       " ('talk', 'VB'),\n",
       " ('to', 'TO'),\n",
       " ('someone', 'NN'),\n",
       " ('about', 'IN'),\n",
       " ('your', 'PRP$'),\n",
       " ('billing', 'NN'),\n",
       " ('questions', 'NNS'),\n",
       " ('.', '.')]"
      ]
     },
     "execution_count": 6,
     "metadata": {},
     "output_type": "execute_result"
    }
   ],
   "source": [
    "tagged_reviews = []\n",
    "for each_review_text in review_data[0:10]:\n",
    "    text = nltk.word_tokenize(each_review_text)\n",
    "    tagged_reviews.append(nltk.pos_tag(text))\n",
    "tagged_reviews[0]"
   ]
  },
  {
   "cell_type": "markdown",
   "metadata": {},
   "source": [
    "## Opinion Mining/Association"
   ]
  },
  {
   "cell_type": "code",
   "execution_count": 7,
   "metadata": {
    "collapsed": true
   },
   "outputs": [],
   "source": [
    "#nltk.help.upenn_tagset()\n",
    "grammar = \"NP: {<DT|PP|CD>?<JJ||JJR|JJS>*<NN|NNS|PRP|NNP|IN|PRP\\$>+<VBD|VBZ|VBN|VBP|IN>*<JJ|RB>*<PRP|NN|NNS>*}\"\n",
    "cp = nltk.RegexpParser(grammar)\n",
    "results = cp.parse(tagged_reviews[0])"
   ]
  },
  {
   "cell_type": "markdown",
   "metadata": {},
   "source": [
    "## Plot the parse tree"
   ]
  },
  {
   "cell_type": "code",
   "execution_count": 87,
   "metadata": {
    "collapsed": true
   },
   "outputs": [],
   "source": [
    "#results.draw()"
   ]
  },
  {
   "cell_type": "code",
   "execution_count": 88,
   "metadata": {
    "collapsed": true
   },
   "outputs": [],
   "source": [
    "#len(tagged_reviewsiews_reviews[9])"
   ]
  },
  {
   "cell_type": "markdown",
   "metadata": {},
   "source": [
    "## Explore results"
   ]
  },
  {
   "cell_type": "code",
   "execution_count": 8,
   "metadata": {},
   "outputs": [
    {
     "name": "stdout",
     "output_type": "stream",
     "text": [
      "['a', 'Customer', 'Care', 'Specialist', 'at', '1-800-392-0717']\n",
      "['someone', 'about', 'your', 'billing', 'questions']\n"
     ]
    }
   ],
   "source": [
    "final = []\n",
    "for result in results:\n",
    "    if type(result) == nltk.tree.Tree:\n",
    "        assoc=[]\n",
    "        for res in result:\n",
    "            assoc.append(res[0])\n",
    "        if len(assoc) > 2:\n",
    "            print(assoc)\n",
    "            final.append(assoc)"
   ]
  },
  {
   "cell_type": "code",
   "execution_count": 9,
   "metadata": {},
   "outputs": [
    {
     "data": {
      "text/plain": [
       "'You can reach a Customer Care Specialist at 1-800-392-0717 to talk to someone about your billing questions.'"
      ]
     },
     "execution_count": 9,
     "metadata": {},
     "output_type": "execute_result"
    }
   ],
   "source": [
    "review_data[0]\n",
    "#tagged_reviews[1]"
   ]
  },
  {
   "cell_type": "code",
   "execution_count": 10,
   "metadata": {
    "collapsed": true
   },
   "outputs": [],
   "source": [
    "from nltk.corpus import stopwords "
   ]
  },
  {
   "cell_type": "code",
   "execution_count": 11,
   "metadata": {
    "collapsed": true
   },
   "outputs": [],
   "source": [
    "stop_words = set(stopwords.words('english')) "
   ]
  },
  {
   "cell_type": "code",
   "execution_count": 12,
   "metadata": {},
   "outputs": [
    {
     "name": "stdout",
     "output_type": "stream",
     "text": [
      "['Customer', 'Care', 'Specialist', '1-800-392-0717']\n",
      "['someone', 'billing', 'questions']\n"
     ]
    }
   ],
   "source": [
    "for w in final:\n",
    "    filtered_sentence = [] \n",
    "    for wn in w:\n",
    "        if wn not in stop_words: \n",
    "            filtered_sentence.append(wn) \n",
    "    print(filtered_sentence) "
   ]
  },
  {
   "cell_type": "code",
   "execution_count": null,
   "metadata": {
    "collapsed": true
   },
   "outputs": [],
   "source": []
  },
  {
   "cell_type": "code",
   "execution_count": null,
   "metadata": {
    "collapsed": true
   },
   "outputs": [],
   "source": []
  }
 ],
 "metadata": {
  "kernelspec": {
   "display_name": "Python 3",
   "language": "python",
   "name": "python3"
  },
  "language_info": {
   "codemirror_mode": {
    "name": "ipython",
    "version": 3
   },
   "file_extension": ".py",
   "mimetype": "text/x-python",
   "name": "python",
   "nbconvert_exporter": "python",
   "pygments_lexer": "ipython3",
   "version": "3.6.1"
  }
 },
 "nbformat": 4,
 "nbformat_minor": 1
}
